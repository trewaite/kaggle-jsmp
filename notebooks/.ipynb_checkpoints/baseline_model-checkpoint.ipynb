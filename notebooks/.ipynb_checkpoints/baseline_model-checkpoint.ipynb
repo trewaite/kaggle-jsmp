{
 "cells": [
  {
   "cell_type": "code",
   "execution_count": 1,
   "metadata": {},
   "outputs": [],
   "source": [
    "import sys\n",
    "import os\n",
    "import csv\n",
    "import numpy as np\n",
    "import pandas as pd\n",
    "import math\n",
    "import matplotlib.pyplot as plt\n",
    "import seaborn as sns\n",
    "from tqdm import tqdm_notebook as tqdm\n",
    "from copy import deepcopy\n",
    "\n",
    "#modeling\n",
    "from sklearn.feature_selection import chi2, f_regression, VarianceThreshold\n",
    "from sklearn.linear_model import LogisticRegression, Lasso\n",
    "from sklearn.ensemble import RandomForestClassifier\n",
    "from lightgbm import LGBMClassifier, LGBMRegressor\n",
    "\n",
    "#metrics\n",
    "from sklearn.metrics import roc_auc_score, accuracy_score\n",
    "\n",
    "sns.set_style('darkgrid')\n",
    "pd.set_option('display.float_format', lambda x: '%.3f' % x)\n",
    "\n",
    "SEED = 26\n",
    "np.random.seed(SEED)"
   ]
  },
  {
   "cell_type": "code",
   "execution_count": 2,
   "metadata": {},
   "outputs": [],
   "source": [
    "def utility_score(df_eval, action_col='pred'):\n",
    "    \n",
    "    i_size = df_eval['date'].nunique()\n",
    "    df_eval['score'] = df_eval['weight']*df_eval['resp']*df_eval[action_col]\n",
    "    \n",
    "    pi = df_eval.groupby('date').sum()['score'].values\n",
    "    pi_squared = np.power(pi,2)\n",
    "    \n",
    "    t = (np.sum(pi)/np.sqrt(np.sum(pi_squared)))*np.sqrt((250/i_size))\n",
    "    u = min(max(t,0),6)*np.sum(pi)\n",
    "    \n",
    "    return u"
   ]
  },
  {
   "cell_type": "markdown",
   "metadata": {},
   "source": [
    "### Read in Feature Engineered Datasets"
   ]
  },
  {
   "cell_type": "code",
   "execution_count": 3,
   "metadata": {},
   "outputs": [
    {
     "name": "stdout",
     "output_type": "stream",
     "text": [
      "CPU times: user 1min 8s, sys: 22.7 s, total: 1min 31s\n",
      "Wall time: 2min 14s\n"
     ]
    }
   ],
   "source": [
    "%%time\n",
    "dtype_dict = {}\n",
    "for f in range(0,130):\n",
    "    dtype_dict[f'feature_{f}'] = 'float32'\n",
    "df = pd.read_csv('../inputs/train.csv')\n",
    "#df = pd.read_csv('../preprocessed/simple_features.csv')"
   ]
  },
  {
   "cell_type": "code",
   "execution_count": 4,
   "metadata": {},
   "outputs": [
    {
     "name": "stdout",
     "output_type": "stream",
     "text": [
      "<class 'pandas.core.frame.DataFrame'>\n",
      "RangeIndex: 2390491 entries, 0 to 2390490\n",
      "Columns: 138 entries, date to ts_id\n",
      "dtypes: float64(135), int64(3)\n",
      "memory usage: 2.5 GB\n"
     ]
    }
   ],
   "source": [
    "df.info()"
   ]
  },
  {
   "cell_type": "code",
   "execution_count": 5,
   "metadata": {},
   "outputs": [],
   "source": [
    "df['feature_0'] = df['feature_0'].replace(-1,0)"
   ]
  },
  {
   "cell_type": "markdown",
   "metadata": {},
   "source": [
    "### Read in Folds"
   ]
  },
  {
   "cell_type": "code",
   "execution_count": 6,
   "metadata": {},
   "outputs": [
    {
     "name": "stdout",
     "output_type": "stream",
     "text": [
      "CPU times: user 553 ms, sys: 10.1 ms, total: 563 ms\n",
      "Wall time: 1 s\n"
     ]
    }
   ],
   "source": [
    "%%time\n",
    "train_fold_ind = pd.read_csv('../preprocessed/train_fold_ind.csv')"
   ]
  },
  {
   "cell_type": "code",
   "execution_count": 7,
   "metadata": {},
   "outputs": [
    {
     "data": {
      "image/png": "[encoded data removed]",
      "text/plain": [
       "<Figure size 432x288 with 1 Axes>"
      ]
     },
     "metadata": {},
     "output_type": "display_data"
    }
   ],
   "source": [
    "train_fold_ind['fold'].value_counts().plot(kind='bar');"
   ]
  },
  {
   "cell_type": "code",
   "execution_count": 8,
   "metadata": {},
   "outputs": [],
   "source": [
    "df = pd.concat([df,train_fold_ind[['fold']]],axis=1)"
   ]
  },
  {
   "cell_type": "markdown",
   "metadata": {},
   "source": [
    "### Build Target"
   ]
  },
  {
   "cell_type": "code",
   "execution_count": 9,
   "metadata": {},
   "outputs": [],
   "source": [
    "# simple binary target, if resp > 0 \n",
    "df['target'] = df['resp'].apply(lambda x: 1 if x > 0 else 0)\n",
    "#df['target'] = df['resp'] # for regression"
   ]
  },
  {
   "cell_type": "code",
   "execution_count": 10,
   "metadata": {},
   "outputs": [
    {
     "data": {
      "image/png": "[encoded data removed]",
      "text/plain": [
       "<Figure size 432x288 with 1 Axes>"
      ]
     },
     "metadata": {},
     "output_type": "display_data"
    }
   ],
   "source": [
    "df['target'].value_counts().plot(kind='bar')\n",
    "plt.title(\"Class Balance\");"
   ]
  },
  {
   "cell_type": "markdown",
   "metadata": {},
   "source": [
    "### Drop and Index Non-Feature Columns"
   ]
  },
  {
   "cell_type": "code",
   "execution_count": 11,
   "metadata": {},
   "outputs": [],
   "source": [
    "df = df.drop(['resp_1','resp_2','resp_3','resp_4'], axis=1)\n",
    "df = df.set_index(['date','ts_id','weight','resp'])"
   ]
  },
  {
   "cell_type": "markdown",
   "metadata": {},
   "source": [
    "### Impute Missing"
   ]
  },
  {
   "cell_type": "code",
   "execution_count": 12,
   "metadata": {},
   "outputs": [],
   "source": [
    "# fill with 0 as all features scaled...therefore mean is 0\n",
    "df = df.fillna(value=0, axis=1)"
   ]
  },
  {
   "cell_type": "markdown",
   "metadata": {},
   "source": [
    "### Feature Selection"
   ]
  },
  {
   "cell_type": "code",
   "execution_count": 13,
   "metadata": {},
   "outputs": [],
   "source": [
    "all_features = [col for col in df.columns if col not in ['fold','target']]\n",
    "drop_cols = []"
   ]
  },
  {
   "cell_type": "code",
   "execution_count": 14,
   "metadata": {},
   "outputs": [
    {
     "data": {
      "text/html": [
       "<div>\n",
       "<style scoped>\n",
       "    .dataframe tbody tr th:only-of-type {\n",
       "        vertical-align: middle;\n",
       "    }\n",
       "\n",
       "    .dataframe tbody tr th {\n",
       "        vertical-align: top;\n",
       "    }\n",
       "\n",
       "    .dataframe thead th {\n",
       "        text-align: right;\n",
       "    }\n",
       "</style>\n",
       "<table border=\"1\" class=\"dataframe\">\n",
       "  <thead>\n",
       "    <tr style=\"text-align: right;\">\n",
       "      <th></th>\n",
       "      <th></th>\n",
       "      <th></th>\n",
       "      <th></th>\n",
       "      <th>feature_0</th>\n",
       "      <th>feature_1</th>\n",
       "      <th>feature_2</th>\n",
       "      <th>feature_3</th>\n",
       "      <th>feature_4</th>\n",
       "      <th>feature_5</th>\n",
       "      <th>feature_6</th>\n",
       "      <th>feature_7</th>\n",
       "      <th>feature_8</th>\n",
       "      <th>feature_9</th>\n",
       "      <th>...</th>\n",
       "      <th>feature_122</th>\n",
       "      <th>feature_123</th>\n",
       "      <th>feature_124</th>\n",
       "      <th>feature_125</th>\n",
       "      <th>feature_126</th>\n",
       "      <th>feature_127</th>\n",
       "      <th>feature_128</th>\n",
       "      <th>feature_129</th>\n",
       "      <th>fold</th>\n",
       "      <th>target</th>\n",
       "    </tr>\n",
       "    <tr>\n",
       "      <th>date</th>\n",
       "      <th>ts_id</th>\n",
       "      <th>weight</th>\n",
       "      <th>resp</th>\n",
       "      <th></th>\n",
       "      <th></th>\n",
       "      <th></th>\n",
       "      <th></th>\n",
       "      <th></th>\n",
       "      <th></th>\n",
       "      <th></th>\n",
       "      <th></th>\n",
       "      <th></th>\n",
       "      <th></th>\n",
       "      <th></th>\n",
       "      <th></th>\n",
       "      <th></th>\n",
       "      <th></th>\n",
       "      <th></th>\n",
       "      <th></th>\n",
       "      <th></th>\n",
       "      <th></th>\n",
       "      <th></th>\n",
       "      <th></th>\n",
       "      <th></th>\n",
       "    </tr>\n",
       "  </thead>\n",
       "  <tbody>\n",
       "    <tr>\n",
       "      <th rowspan=\"5\" valign=\"top\">0</th>\n",
       "      <th>0</th>\n",
       "      <th>0.000</th>\n",
       "      <th>0.006</th>\n",
       "      <td>1</td>\n",
       "      <td>-1.873</td>\n",
       "      <td>-2.191</td>\n",
       "      <td>-0.474</td>\n",
       "      <td>-0.323</td>\n",
       "      <td>0.015</td>\n",
       "      <td>-0.002</td>\n",
       "      <td>0.000</td>\n",
       "      <td>0.000</td>\n",
       "      <td>-0.990</td>\n",
       "      <td>...</td>\n",
       "      <td>1.168</td>\n",
       "      <td>8.314</td>\n",
       "      <td>1.782</td>\n",
       "      <td>14.018</td>\n",
       "      <td>2.653</td>\n",
       "      <td>12.600</td>\n",
       "      <td>2.301</td>\n",
       "      <td>11.446</td>\n",
       "      <td>train_fold</td>\n",
       "      <td>1</td>\n",
       "    </tr>\n",
       "    <tr>\n",
       "      <th>1</th>\n",
       "      <th>16.674</th>\n",
       "      <th>-0.010</th>\n",
       "      <td>0</td>\n",
       "      <td>-1.350</td>\n",
       "      <td>-1.705</td>\n",
       "      <td>0.068</td>\n",
       "      <td>0.028</td>\n",
       "      <td>0.194</td>\n",
       "      <td>0.138</td>\n",
       "      <td>0.000</td>\n",
       "      <td>0.000</td>\n",
       "      <td>-0.152</td>\n",
       "      <td>...</td>\n",
       "      <td>-1.179</td>\n",
       "      <td>1.777</td>\n",
       "      <td>-0.915</td>\n",
       "      <td>2.832</td>\n",
       "      <td>-1.417</td>\n",
       "      <td>2.297</td>\n",
       "      <td>-1.305</td>\n",
       "      <td>1.899</td>\n",
       "      <td>train_fold</td>\n",
       "      <td>0</td>\n",
       "    </tr>\n",
       "    <tr>\n",
       "      <th>2</th>\n",
       "      <th>0.000</th>\n",
       "      <th>0.024</th>\n",
       "      <td>0</td>\n",
       "      <td>0.813</td>\n",
       "      <td>-0.256</td>\n",
       "      <td>0.806</td>\n",
       "      <td>0.400</td>\n",
       "      <td>-0.614</td>\n",
       "      <td>-0.355</td>\n",
       "      <td>0.000</td>\n",
       "      <td>0.000</td>\n",
       "      <td>5.448</td>\n",
       "      <td>...</td>\n",
       "      <td>6.116</td>\n",
       "      <td>9.668</td>\n",
       "      <td>5.543</td>\n",
       "      <td>11.672</td>\n",
       "      <td>7.282</td>\n",
       "      <td>10.060</td>\n",
       "      <td>6.638</td>\n",
       "      <td>9.427</td>\n",
       "      <td>train_fold</td>\n",
       "      <td>1</td>\n",
       "    </tr>\n",
       "    <tr>\n",
       "      <th>3</th>\n",
       "      <th>0.000</th>\n",
       "      <th>-0.003</th>\n",
       "      <td>0</td>\n",
       "      <td>1.174</td>\n",
       "      <td>0.345</td>\n",
       "      <td>0.067</td>\n",
       "      <td>0.009</td>\n",
       "      <td>-1.006</td>\n",
       "      <td>-0.676</td>\n",
       "      <td>0.000</td>\n",
       "      <td>0.000</td>\n",
       "      <td>4.508</td>\n",
       "      <td>...</td>\n",
       "      <td>2.839</td>\n",
       "      <td>0.499</td>\n",
       "      <td>3.034</td>\n",
       "      <td>1.513</td>\n",
       "      <td>4.398</td>\n",
       "      <td>1.266</td>\n",
       "      <td>3.856</td>\n",
       "      <td>1.013</td>\n",
       "      <td>train_fold</td>\n",
       "      <td>0</td>\n",
       "    </tr>\n",
       "    <tr>\n",
       "      <th>4</th>\n",
       "      <th>0.139</th>\n",
       "      <th>-0.003</th>\n",
       "      <td>1</td>\n",
       "      <td>-3.172</td>\n",
       "      <td>-3.093</td>\n",
       "      <td>-0.162</td>\n",
       "      <td>-0.128</td>\n",
       "      <td>-0.195</td>\n",
       "      <td>-0.144</td>\n",
       "      <td>0.000</td>\n",
       "      <td>0.000</td>\n",
       "      <td>2.683</td>\n",
       "      <td>...</td>\n",
       "      <td>0.345</td>\n",
       "      <td>4.101</td>\n",
       "      <td>0.614</td>\n",
       "      <td>6.623</td>\n",
       "      <td>0.800</td>\n",
       "      <td>5.233</td>\n",
       "      <td>0.363</td>\n",
       "      <td>3.927</td>\n",
       "      <td>train_fold</td>\n",
       "      <td>0</td>\n",
       "    </tr>\n",
       "  </tbody>\n",
       "</table>\n",
       "<p>5 rows × 132 columns</p>\n",
       "</div>"
      ],
      "text/plain": [
       "                          feature_0  feature_1  feature_2  feature_3  \\\n",
       "date ts_id weight resp                                                 \n",
       "0    0     0.000  0.006           1     -1.873     -2.191     -0.474   \n",
       "     1     16.674 -0.010          0     -1.350     -1.705      0.068   \n",
       "     2     0.000  0.024           0      0.813     -0.256      0.806   \n",
       "     3     0.000  -0.003          0      1.174      0.345      0.067   \n",
       "     4     0.139  -0.003          1     -3.172     -3.093     -0.162   \n",
       "\n",
       "                          feature_4  feature_5  feature_6  feature_7  \\\n",
       "date ts_id weight resp                                                 \n",
       "0    0     0.000  0.006      -0.323      0.015     -0.002      0.000   \n",
       "     1     16.674 -0.010      0.028      0.194      0.138      0.000   \n",
       "     2     0.000  0.024       0.400     -0.614     -0.355      0.000   \n",
       "     3     0.000  -0.003      0.009     -1.006     -0.676      0.000   \n",
       "     4     0.139  -0.003     -0.128     -0.195     -0.144      0.000   \n",
       "\n",
       "                          feature_8  feature_9  ...  feature_122  feature_123  \\\n",
       "date ts_id weight resp                          ...                             \n",
       "0    0     0.000  0.006       0.000     -0.990  ...        1.168        8.314   \n",
       "     1     16.674 -0.010      0.000     -0.152  ...       -1.179        1.777   \n",
       "     2     0.000  0.024       0.000      5.448  ...        6.116        9.668   \n",
       "     3     0.000  -0.003      0.000      4.508  ...        2.839        0.499   \n",
       "     4     0.139  -0.003      0.000      2.683  ...        0.345        4.101   \n",
       "\n",
       "                          feature_124  feature_125  feature_126  feature_127  \\\n",
       "date ts_id weight resp                                                         \n",
       "0    0     0.000  0.006         1.782       14.018        2.653       12.600   \n",
       "     1     16.674 -0.010       -0.915        2.832       -1.417        2.297   \n",
       "     2     0.000  0.024         5.543       11.672        7.282       10.060   \n",
       "     3     0.000  -0.003        3.034        1.513        4.398        1.266   \n",
       "     4     0.139  -0.003        0.614        6.623        0.800        5.233   \n",
       "\n",
       "                          feature_128  feature_129        fold  target  \n",
       "date ts_id weight resp                                                  \n",
       "0    0     0.000  0.006         2.301       11.446  train_fold       1  \n",
       "     1     16.674 -0.010       -1.305        1.899  train_fold       0  \n",
       "     2     0.000  0.024         6.638        9.427  train_fold       1  \n",
       "     3     0.000  -0.003        3.856        1.013  train_fold       0  \n",
       "     4     0.139  -0.003        0.363        3.927  train_fold       0  \n",
       "\n",
       "[5 rows x 132 columns]"
      ]
     },
     "execution_count": 14,
     "metadata": {},
     "output_type": "execute_result"
    }
   ],
   "source": [
    "df.head()"
   ]
  },
  {
   "cell_type": "code",
   "execution_count": 15,
   "metadata": {},
   "outputs": [
    {
     "name": "stdout",
     "output_type": "stream",
     "text": [
      "CPU times: user 2.4 s, sys: 5.82 s, total: 8.22 s\n",
      "Wall time: 8.05 s\n"
     ]
    }
   ],
   "source": [
    "%%time\n",
    "f_reg_results = f_regression(X=df[df['fold']=='train_fold'][all_features].values,\n",
    "                             y=df[df['fold']=='train_fold']['target'].values)"
   ]
  },
  {
   "cell_type": "code",
   "execution_count": 16,
   "metadata": {},
   "outputs": [],
   "source": [
    "f_reg_results = pd.DataFrame(list(zip(all_features,f_reg_results[1])),columns=['feature','p_value']).sort_values(by='p_value',ascending=True)"
   ]
  },
  {
   "cell_type": "code",
   "execution_count": 17,
   "metadata": {},
   "outputs": [
    {
     "data": {
      "text/html": [
       "<div>\n",
       "<style scoped>\n",
       "    .dataframe tbody tr th:only-of-type {\n",
       "        vertical-align: middle;\n",
       "    }\n",
       "\n",
       "    .dataframe tbody tr th {\n",
       "        vertical-align: top;\n",
       "    }\n",
       "\n",
       "    .dataframe thead th {\n",
       "        text-align: right;\n",
       "    }\n",
       "</style>\n",
       "<table border=\"1\" class=\"dataframe\">\n",
       "  <thead>\n",
       "    <tr style=\"text-align: right;\">\n",
       "      <th></th>\n",
       "      <th>feature</th>\n",
       "      <th>p_value</th>\n",
       "    </tr>\n",
       "  </thead>\n",
       "  <tbody>\n",
       "    <tr>\n",
       "      <th>111</th>\n",
       "      <td>feature_111</td>\n",
       "      <td>0.101</td>\n",
       "    </tr>\n",
       "    <tr>\n",
       "      <th>96</th>\n",
       "      <td>feature_96</td>\n",
       "      <td>0.107</td>\n",
       "    </tr>\n",
       "    <tr>\n",
       "      <th>127</th>\n",
       "      <td>feature_127</td>\n",
       "      <td>0.148</td>\n",
       "    </tr>\n",
       "    <tr>\n",
       "      <th>121</th>\n",
       "      <td>feature_121</td>\n",
       "      <td>0.177</td>\n",
       "    </tr>\n",
       "    <tr>\n",
       "      <th>108</th>\n",
       "      <td>feature_108</td>\n",
       "      <td>0.211</td>\n",
       "    </tr>\n",
       "    <tr>\n",
       "      <th>4</th>\n",
       "      <td>feature_4</td>\n",
       "      <td>0.306</td>\n",
       "    </tr>\n",
       "    <tr>\n",
       "      <th>98</th>\n",
       "      <td>feature_98</td>\n",
       "      <td>0.377</td>\n",
       "    </tr>\n",
       "    <tr>\n",
       "      <th>5</th>\n",
       "      <td>feature_5</td>\n",
       "      <td>0.471</td>\n",
       "    </tr>\n",
       "    <tr>\n",
       "      <th>93</th>\n",
       "      <td>feature_93</td>\n",
       "      <td>0.485</td>\n",
       "    </tr>\n",
       "    <tr>\n",
       "      <th>78</th>\n",
       "      <td>feature_78</td>\n",
       "      <td>0.579</td>\n",
       "    </tr>\n",
       "    <tr>\n",
       "      <th>83</th>\n",
       "      <td>feature_83</td>\n",
       "      <td>0.632</td>\n",
       "    </tr>\n",
       "    <tr>\n",
       "      <th>84</th>\n",
       "      <td>feature_84</td>\n",
       "      <td>0.682</td>\n",
       "    </tr>\n",
       "    <tr>\n",
       "      <th>110</th>\n",
       "      <td>feature_110</td>\n",
       "      <td>0.800</td>\n",
       "    </tr>\n",
       "    <tr>\n",
       "      <th>115</th>\n",
       "      <td>feature_115</td>\n",
       "      <td>0.801</td>\n",
       "    </tr>\n",
       "    <tr>\n",
       "      <th>86</th>\n",
       "      <td>feature_86</td>\n",
       "      <td>0.852</td>\n",
       "    </tr>\n",
       "    <tr>\n",
       "      <th>125</th>\n",
       "      <td>feature_125</td>\n",
       "      <td>0.862</td>\n",
       "    </tr>\n",
       "    <tr>\n",
       "      <th>3</th>\n",
       "      <td>feature_3</td>\n",
       "      <td>0.899</td>\n",
       "    </tr>\n",
       "    <tr>\n",
       "      <th>74</th>\n",
       "      <td>feature_74</td>\n",
       "      <td>0.968</td>\n",
       "    </tr>\n",
       "  </tbody>\n",
       "</table>\n",
       "</div>"
      ],
      "text/plain": [
       "         feature  p_value\n",
       "111  feature_111    0.101\n",
       "96    feature_96    0.107\n",
       "127  feature_127    0.148\n",
       "121  feature_121    0.177\n",
       "108  feature_108    0.211\n",
       "4      feature_4    0.306\n",
       "98    feature_98    0.377\n",
       "5      feature_5    0.471\n",
       "93    feature_93    0.485\n",
       "78    feature_78    0.579\n",
       "83    feature_83    0.632\n",
       "84    feature_84    0.682\n",
       "110  feature_110    0.800\n",
       "115  feature_115    0.801\n",
       "86    feature_86    0.852\n",
       "125  feature_125    0.862\n",
       "3      feature_3    0.899\n",
       "74    feature_74    0.968"
      ]
     },
     "execution_count": 17,
     "metadata": {},
     "output_type": "execute_result"
    }
   ],
   "source": [
    "f_reg_results[f_reg_results['p_value']>0.05]"
   ]
  },
  {
   "cell_type": "code",
   "execution_count": 18,
   "metadata": {},
   "outputs": [
    {
     "data": {
      "text/html": [
       "<div>\n",
       "<style scoped>\n",
       "    .dataframe tbody tr th:only-of-type {\n",
       "        vertical-align: middle;\n",
       "    }\n",
       "\n",
       "    .dataframe tbody tr th {\n",
       "        vertical-align: top;\n",
       "    }\n",
       "\n",
       "    .dataframe thead th {\n",
       "        text-align: right;\n",
       "    }\n",
       "</style>\n",
       "<table border=\"1\" class=\"dataframe\">\n",
       "  <thead>\n",
       "    <tr style=\"text-align: right;\">\n",
       "      <th></th>\n",
       "      <th></th>\n",
       "      <th></th>\n",
       "      <th></th>\n",
       "      <th>feature_0</th>\n",
       "      <th>feature_1</th>\n",
       "      <th>feature_2</th>\n",
       "      <th>feature_3</th>\n",
       "      <th>feature_4</th>\n",
       "      <th>feature_5</th>\n",
       "      <th>feature_6</th>\n",
       "      <th>feature_7</th>\n",
       "      <th>feature_8</th>\n",
       "      <th>feature_9</th>\n",
       "      <th>...</th>\n",
       "      <th>feature_122</th>\n",
       "      <th>feature_123</th>\n",
       "      <th>feature_124</th>\n",
       "      <th>feature_125</th>\n",
       "      <th>feature_126</th>\n",
       "      <th>feature_127</th>\n",
       "      <th>feature_128</th>\n",
       "      <th>feature_129</th>\n",
       "      <th>fold</th>\n",
       "      <th>target</th>\n",
       "    </tr>\n",
       "    <tr>\n",
       "      <th>date</th>\n",
       "      <th>ts_id</th>\n",
       "      <th>weight</th>\n",
       "      <th>resp</th>\n",
       "      <th></th>\n",
       "      <th></th>\n",
       "      <th></th>\n",
       "      <th></th>\n",
       "      <th></th>\n",
       "      <th></th>\n",
       "      <th></th>\n",
       "      <th></th>\n",
       "      <th></th>\n",
       "      <th></th>\n",
       "      <th></th>\n",
       "      <th></th>\n",
       "      <th></th>\n",
       "      <th></th>\n",
       "      <th></th>\n",
       "      <th></th>\n",
       "      <th></th>\n",
       "      <th></th>\n",
       "      <th></th>\n",
       "      <th></th>\n",
       "      <th></th>\n",
       "    </tr>\n",
       "  </thead>\n",
       "  <tbody>\n",
       "    <tr>\n",
       "      <th rowspan=\"5\" valign=\"top\">0</th>\n",
       "      <th>0</th>\n",
       "      <th>0.000</th>\n",
       "      <th>0.006</th>\n",
       "      <td>1</td>\n",
       "      <td>-1.873</td>\n",
       "      <td>-2.191</td>\n",
       "      <td>-0.474</td>\n",
       "      <td>-0.323</td>\n",
       "      <td>0.015</td>\n",
       "      <td>-0.002</td>\n",
       "      <td>0.000</td>\n",
       "      <td>0.000</td>\n",
       "      <td>-0.990</td>\n",
       "      <td>...</td>\n",
       "      <td>1.168</td>\n",
       "      <td>8.314</td>\n",
       "      <td>1.782</td>\n",
       "      <td>14.018</td>\n",
       "      <td>2.653</td>\n",
       "      <td>12.600</td>\n",
       "      <td>2.301</td>\n",
       "      <td>11.446</td>\n",
       "      <td>train_fold</td>\n",
       "      <td>1</td>\n",
       "    </tr>\n",
       "    <tr>\n",
       "      <th>1</th>\n",
       "      <th>16.674</th>\n",
       "      <th>-0.010</th>\n",
       "      <td>0</td>\n",
       "      <td>-1.350</td>\n",
       "      <td>-1.705</td>\n",
       "      <td>0.068</td>\n",
       "      <td>0.028</td>\n",
       "      <td>0.194</td>\n",
       "      <td>0.138</td>\n",
       "      <td>0.000</td>\n",
       "      <td>0.000</td>\n",
       "      <td>-0.152</td>\n",
       "      <td>...</td>\n",
       "      <td>-1.179</td>\n",
       "      <td>1.777</td>\n",
       "      <td>-0.915</td>\n",
       "      <td>2.832</td>\n",
       "      <td>-1.417</td>\n",
       "      <td>2.297</td>\n",
       "      <td>-1.305</td>\n",
       "      <td>1.899</td>\n",
       "      <td>train_fold</td>\n",
       "      <td>0</td>\n",
       "    </tr>\n",
       "    <tr>\n",
       "      <th>2</th>\n",
       "      <th>0.000</th>\n",
       "      <th>0.024</th>\n",
       "      <td>0</td>\n",
       "      <td>0.813</td>\n",
       "      <td>-0.256</td>\n",
       "      <td>0.806</td>\n",
       "      <td>0.400</td>\n",
       "      <td>-0.614</td>\n",
       "      <td>-0.355</td>\n",
       "      <td>0.000</td>\n",
       "      <td>0.000</td>\n",
       "      <td>5.448</td>\n",
       "      <td>...</td>\n",
       "      <td>6.116</td>\n",
       "      <td>9.668</td>\n",
       "      <td>5.543</td>\n",
       "      <td>11.672</td>\n",
       "      <td>7.282</td>\n",
       "      <td>10.060</td>\n",
       "      <td>6.638</td>\n",
       "      <td>9.427</td>\n",
       "      <td>train_fold</td>\n",
       "      <td>1</td>\n",
       "    </tr>\n",
       "    <tr>\n",
       "      <th>3</th>\n",
       "      <th>0.000</th>\n",
       "      <th>-0.003</th>\n",
       "      <td>0</td>\n",
       "      <td>1.174</td>\n",
       "      <td>0.345</td>\n",
       "      <td>0.067</td>\n",
       "      <td>0.009</td>\n",
       "      <td>-1.006</td>\n",
       "      <td>-0.676</td>\n",
       "      <td>0.000</td>\n",
       "      <td>0.000</td>\n",
       "      <td>4.508</td>\n",
       "      <td>...</td>\n",
       "      <td>2.839</td>\n",
       "      <td>0.499</td>\n",
       "      <td>3.034</td>\n",
       "      <td>1.513</td>\n",
       "      <td>4.398</td>\n",
       "      <td>1.266</td>\n",
       "      <td>3.856</td>\n",
       "      <td>1.013</td>\n",
       "      <td>train_fold</td>\n",
       "      <td>0</td>\n",
       "    </tr>\n",
       "    <tr>\n",
       "      <th>4</th>\n",
       "      <th>0.139</th>\n",
       "      <th>-0.003</th>\n",
       "      <td>1</td>\n",
       "      <td>-3.172</td>\n",
       "      <td>-3.093</td>\n",
       "      <td>-0.162</td>\n",
       "      <td>-0.128</td>\n",
       "      <td>-0.195</td>\n",
       "      <td>-0.144</td>\n",
       "      <td>0.000</td>\n",
       "      <td>0.000</td>\n",
       "      <td>2.683</td>\n",
       "      <td>...</td>\n",
       "      <td>0.345</td>\n",
       "      <td>4.101</td>\n",
       "      <td>0.614</td>\n",
       "      <td>6.623</td>\n",
       "      <td>0.800</td>\n",
       "      <td>5.233</td>\n",
       "      <td>0.363</td>\n",
       "      <td>3.927</td>\n",
       "      <td>train_fold</td>\n",
       "      <td>0</td>\n",
       "    </tr>\n",
       "  </tbody>\n",
       "</table>\n",
       "<p>5 rows × 132 columns</p>\n",
       "</div>"
      ],
      "text/plain": [
       "                          feature_0  feature_1  feature_2  feature_3  \\\n",
       "date ts_id weight resp                                                 \n",
       "0    0     0.000  0.006           1     -1.873     -2.191     -0.474   \n",
       "     1     16.674 -0.010          0     -1.350     -1.705      0.068   \n",
       "     2     0.000  0.024           0      0.813     -0.256      0.806   \n",
       "     3     0.000  -0.003          0      1.174      0.345      0.067   \n",
       "     4     0.139  -0.003          1     -3.172     -3.093     -0.162   \n",
       "\n",
       "                          feature_4  feature_5  feature_6  feature_7  \\\n",
       "date ts_id weight resp                                                 \n",
       "0    0     0.000  0.006      -0.323      0.015     -0.002      0.000   \n",
       "     1     16.674 -0.010      0.028      0.194      0.138      0.000   \n",
       "     2     0.000  0.024       0.400     -0.614     -0.355      0.000   \n",
       "     3     0.000  -0.003      0.009     -1.006     -0.676      0.000   \n",
       "     4     0.139  -0.003     -0.128     -0.195     -0.144      0.000   \n",
       "\n",
       "                          feature_8  feature_9  ...  feature_122  feature_123  \\\n",
       "date ts_id weight resp                          ...                             \n",
       "0    0     0.000  0.006       0.000     -0.990  ...        1.168        8.314   \n",
       "     1     16.674 -0.010      0.000     -0.152  ...       -1.179        1.777   \n",
       "     2     0.000  0.024       0.000      5.448  ...        6.116        9.668   \n",
       "     3     0.000  -0.003      0.000      4.508  ...        2.839        0.499   \n",
       "     4     0.139  -0.003      0.000      2.683  ...        0.345        4.101   \n",
       "\n",
       "                          feature_124  feature_125  feature_126  feature_127  \\\n",
       "date ts_id weight resp                                                         \n",
       "0    0     0.000  0.006         1.782       14.018        2.653       12.600   \n",
       "     1     16.674 -0.010       -0.915        2.832       -1.417        2.297   \n",
       "     2     0.000  0.024         5.543       11.672        7.282       10.060   \n",
       "     3     0.000  -0.003        3.034        1.513        4.398        1.266   \n",
       "     4     0.139  -0.003        0.614        6.623        0.800        5.233   \n",
       "\n",
       "                          feature_128  feature_129        fold  target  \n",
       "date ts_id weight resp                                                  \n",
       "0    0     0.000  0.006         2.301       11.446  train_fold       1  \n",
       "     1     16.674 -0.010       -1.305        1.899  train_fold       0  \n",
       "     2     0.000  0.024         6.638        9.427  train_fold       1  \n",
       "     3     0.000  -0.003        3.856        1.013  train_fold       0  \n",
       "     4     0.139  -0.003        0.363        3.927  train_fold       0  \n",
       "\n",
       "[5 rows x 132 columns]"
      ]
     },
     "execution_count": 18,
     "metadata": {},
     "output_type": "execute_result"
    }
   ],
   "source": [
    "df.head()"
   ]
  },
  {
   "cell_type": "markdown",
   "metadata": {},
   "source": [
    "## Models"
   ]
  },
  {
   "cell_type": "code",
   "execution_count": 41,
   "metadata": {},
   "outputs": [],
   "source": [
    "def run_models(estimator):\n",
    "    \n",
    "    results = {}\n",
    "    df_test_results = pd.DataFrame()\n",
    "    \n",
    "    results['estimator'] = {}\n",
    "    results['train_auc'] = {}\n",
    "    results['train_acc'] = {}\n",
    "    results['test_auc'] = {}\n",
    "    results['test_acc'] = {}\n",
    "    results['utility_score'] = {}\n",
    "        \n",
    "    lr_model = deepcopy(estimator)\n",
    "    \n",
    "    train_fold_list = ['train_fold']\n",
    "\n",
    "    for fold in tqdm(range(0, df['fold'].nunique()-1, 1)):\n",
    "\n",
    "        # split fold\n",
    "        train_fold_list.append(f'fold_{fold}')\n",
    "        \n",
    "        df_train = df[df['fold'].isin(train_fold_list[0:-1])]\n",
    "        df_test = df[df['fold'].isin([train_fold_list[-1]])]\n",
    "        \n",
    "        df_train = df_train.drop('fold', axis=1)\n",
    "        df_test = df_test.drop('fold', axis=1)\n",
    "\n",
    "        # make X,y\n",
    "        X_train = df_train.drop('target', axis=1)\n",
    "        y_train = df_train['target'].values\n",
    "        X_test = df_test.drop('target', axis=1)\n",
    "        y_test = df_test['target'].values\n",
    "\n",
    "        print(f\"Fitting Fold {train_fold_list[0:-1]} Model ({X_train.shape[0]} samples) ...\")\n",
    "        lr_model.fit(X_train,y_train)\n",
    "\n",
    "        # make predictions\n",
    "        train_pred_prob = lr_model.predict_proba(X_train)[:,1]\n",
    "        train_pred = np.where(train_pred_prob>0.5,1,0)\n",
    "\n",
    "        test_pred_prob = lr_model.predict_proba(X_test)[:,1]\n",
    "        test_pred = np.where(test_pred_prob>0.5,1,0)\n",
    "        \n",
    "        print(\"Example Probs: \", test_pred_prob[0:5])\n",
    "\n",
    "        print(\"Complete.\\n\")\n",
    "\n",
    "        # calculate scores\n",
    "        train_auc = roc_auc_score(y_train, train_pred_prob)\n",
    "        train_acc = accuracy_score(y_train, train_pred)\n",
    "\n",
    "        test_auc = roc_auc_score(y_test, test_pred_prob)\n",
    "        test_acc = accuracy_score(y_test, test_pred)\n",
    "\n",
    "        print(f\"Fold {train_fold_list[0:-1]} Train Scores: \")\n",
    "        print(f\"AUC: {train_auc}\")\n",
    "        print(f\"Accuracy: {train_acc}\")\n",
    "        print(\"\\n\")\n",
    "\n",
    "        print(f\"Fold {train_fold_list[-1]} Test Scores: \")\n",
    "        print(f\"AUC: {test_auc}\")\n",
    "        print(f\"Accuracy: {test_acc}\")\n",
    "        \n",
    "        \n",
    "        # save fold results\n",
    "        results_df = df_test.reset_index()[['date','weight','resp']].copy()\n",
    "        results_df['fold'] = train_fold_list[-1]\n",
    "        results_df['actual'] = y_test\n",
    "        results_df['pred_prob'] = test_pred_prob\n",
    "        results_df['pred'] = test_pred\n",
    "        df_test_results = df_test_results.append(results_df)\n",
    "        \n",
    "        u = utility_score(results_df, action_col='pred')\n",
    "        u_ideal = utility_score(results_df, action_col='actual')\n",
    "        print(\"Utility Score: \", u)\n",
    "        print(\"Utility Score Ideal: \", u_ideal)\n",
    "        print(\"\\n\")\n",
    "        \n",
    "        results['estimator'][train_fold_list[-1]] = lr_model\n",
    "        results['train_auc'][train_fold_list[-1]] = train_auc\n",
    "        results['train_acc'][train_fold_list[-1]] = train_acc\n",
    "        results['test_auc'][train_fold_list[-1]] = test_auc\n",
    "        results['test_acc'][train_fold_list[-1]] = test_acc    \n",
    "        results['utility_score'][train_fold_list[-1]] = u\n",
    "        \n",
    "    return results, df_test_results"
   ]
  },
  {
   "cell_type": "code",
   "execution_count": 23,
   "metadata": {},
   "outputs": [
    {
     "name": "stderr",
     "output_type": "stream",
     "text": [
      "<ipython-input-22-913c57cb0616>:17: TqdmDeprecationWarning: This function will be removed in tqdm==5.0.0\n",
      "Please use `tqdm.notebook.tqdm` instead of `tqdm.tqdm_notebook`\n",
      "  for fold in tqdm(range(0, df['fold'].nunique()-1, 1)):\n"
     ]
    },
    {
     "data": {
      "application/vnd.jupyter.widget-view+json": {
       "model_id": "bfa9b4864ce04658a9f1ab8be41c1e5c",
       "version_major": 2,
       "version_minor": 0
      },
      "text/plain": [
       "HBox(children=(HTML(value=''), FloatProgress(value=0.0, max=5.0), HTML(value='')))"
      ]
     },
     "metadata": {},
     "output_type": "display_data"
    },
    {
     "name": "stdout",
     "output_type": "stream",
     "text": [
      "Fitting Fold ['train_fold'] Model (1403069 samples) ...\n"
     ]
    },
    {
     "name": "stderr",
     "output_type": "stream",
     "text": [
      "/mnt/f/code/kaggle-jsmp/env/lib/python3.8/site-packages/sklearn/linear_model/_sag.py:329: ConvergenceWarning: The max_iter was reached which means the coef_ did not converge\n",
      "  warnings.warn(\"The max_iter was reached which means \"\n"
     ]
    },
    {
     "name": "stdout",
     "output_type": "stream",
     "text": [
      "Example Probs:  [0.49956299 0.4857311  0.49701603 0.51390444 0.50687493]\n",
      "Complete.\n",
      "\n",
      "Fold ['train_fold'] Train Scores: \n",
      "AUC: 0.5364557783496895\n",
      "Accuracy: 0.5249421090480939\n",
      "\n",
      "\n",
      "Fold fold_0 Test Scores: \n",
      "AUC: 0.5197246361917841\n",
      "Accuracy: 0.5135065386794728\n",
      "Utility Score:  650.2750255009807\n",
      "\n",
      "\n",
      "Fitting Fold ['train_fold', 'fold_0'] Model (1581316 samples) ...\n"
     ]
    },
    {
     "name": "stderr",
     "output_type": "stream",
     "text": [
      "/mnt/f/code/kaggle-jsmp/env/lib/python3.8/site-packages/sklearn/linear_model/_sag.py:329: ConvergenceWarning: The max_iter was reached which means the coef_ did not converge\n",
      "  warnings.warn(\"The max_iter was reached which means \"\n"
     ]
    },
    {
     "name": "stdout",
     "output_type": "stream",
     "text": [
      "Example Probs:  [0.48954461 0.47220853 0.51527228 0.49668119 0.49710949]\n",
      "Complete.\n",
      "\n",
      "Fold ['train_fold', 'fold_0'] Train Scores: \n",
      "AUC: 0.5351304138114072\n",
      "Accuracy: 0.5240672958472563\n",
      "\n",
      "\n",
      "Fold fold_1 Test Scores: \n",
      "AUC: 0.5202913014724004\n",
      "Accuracy: 0.5137215698612619\n",
      "Utility Score:  0.861089364432786\n",
      "\n",
      "\n",
      "Fitting Fold ['train_fold', 'fold_0', 'fold_1'] Model (1778378 samples) ...\n"
     ]
    },
    {
     "name": "stderr",
     "output_type": "stream",
     "text": [
      "/mnt/f/code/kaggle-jsmp/env/lib/python3.8/site-packages/sklearn/linear_model/_sag.py:329: ConvergenceWarning: The max_iter was reached which means the coef_ did not converge\n",
      "  warnings.warn(\"The max_iter was reached which means \"\n"
     ]
    },
    {
     "name": "stdout",
     "output_type": "stream",
     "text": [
      "Example Probs:  [0.48134993 0.50021519 0.49143538 0.49188031 0.49313061]\n",
      "Complete.\n",
      "\n",
      "Fold ['train_fold', 'fold_0', 'fold_1'] Train Scores: \n",
      "AUC: 0.533815188184563\n",
      "Accuracy: 0.5231081356157128\n",
      "\n",
      "\n",
      "Fold fold_2 Test Scores: \n",
      "AUC: 0.5200249696649969\n",
      "Accuracy: 0.5144800304620071\n",
      "Utility Score:  72.65572646450059\n",
      "\n",
      "\n",
      "Fitting Fold ['train_fold', 'fold_0', 'fold_1', 'fold_2'] Model (1967466 samples) ...\n"
     ]
    },
    {
     "name": "stderr",
     "output_type": "stream",
     "text": [
      "/mnt/f/code/kaggle-jsmp/env/lib/python3.8/site-packages/sklearn/linear_model/_sag.py:329: ConvergenceWarning: The max_iter was reached which means the coef_ did not converge\n",
      "  warnings.warn(\"The max_iter was reached which means \"\n"
     ]
    },
    {
     "name": "stdout",
     "output_type": "stream",
     "text": [
      "Example Probs:  [0.53629987 0.49887138 0.5294077  0.48136651 0.50542122]\n",
      "Complete.\n",
      "\n",
      "Fold ['train_fold', 'fold_0', 'fold_1', 'fold_2'] Train Scores: \n",
      "AUC: 0.5328768494158946\n",
      "Accuracy: 0.5226570624346241\n",
      "\n",
      "\n",
      "Fold fold_3 Test Scores: \n",
      "AUC: 0.516853065180285\n",
      "Accuracy: 0.5125219264795607\n",
      "Utility Score:  41.443940370928395\n",
      "\n",
      "\n",
      "Fitting Fold ['train_fold', 'fold_0', 'fold_1', 'fold_2', 'fold_3'] Model (2177258 samples) ...\n"
     ]
    },
    {
     "name": "stderr",
     "output_type": "stream",
     "text": [
      "/mnt/f/code/kaggle-jsmp/env/lib/python3.8/site-packages/sklearn/linear_model/_sag.py:329: ConvergenceWarning: The max_iter was reached which means the coef_ did not converge\n",
      "  warnings.warn(\"The max_iter was reached which means \"\n"
     ]
    },
    {
     "name": "stdout",
     "output_type": "stream",
     "text": [
      "Example Probs:  [0.480663   0.53177387 0.50002988 0.50927959 0.49060709]\n",
      "Complete.\n",
      "\n",
      "Fold ['train_fold', 'fold_0', 'fold_1', 'fold_2', 'fold_3'] Train Scores: \n",
      "AUC: 0.5315046042802881\n",
      "Accuracy: 0.521616638910042\n",
      "\n",
      "\n",
      "Fold fold_4 Test Scores: \n",
      "AUC: 0.5296923923098507\n",
      "Accuracy: 0.5182218512143992\n",
      "Utility Score:  1990.7217283839532\n",
      "\n",
      "\n",
      "\n",
      "CPU times: user 26min 10s, sys: 52.7 s, total: 27min 2s\n",
      "Wall time: 27min 9s\n"
     ]
    }
   ],
   "source": [
    "%%time\n",
    "estimator = LogisticRegression(solver='sag',penalty='l2')\n",
    "lr_results_dict, lr_results_df = run_models(estimator=estimator)"
   ]
  },
  {
   "cell_type": "code",
   "execution_count": 24,
   "metadata": {},
   "outputs": [],
   "source": [
    "lr_results_df = lr_results_df.sort_values('pred_prob',ascending=False)\n",
    "lr_results_df['correct'] = lr_results_df.apply(lambda x: 1 if x['actual']==x['pred'] else 0, axis=1)\n",
    "lr_results_df['precision'] = lr_results_df['correct'].expanding().mean()"
   ]
  },
  {
   "cell_type": "code",
   "execution_count": 25,
   "metadata": {},
   "outputs": [
    {
     "data": {
      "text/plain": [
       "<AxesSubplot:>"
      ]
     },
     "execution_count": 25,
     "metadata": {},
     "output_type": "execute_result"
    },
    {
     "data": {
      "image/png": "[encoded data removed]",
      "text/plain": [
       "<Figure size 432x288 with 1 Axes>"
      ]
     },
     "metadata": {},
     "output_type": "display_data"
    }
   ],
   "source": [
    "lr_results_df['pred_prob'].hist(bins=100)"
   ]
  },
  {
   "cell_type": "code",
   "execution_count": 29,
   "metadata": {},
   "outputs": [
    {
     "data": {
      "image/png": "[encoded data removed]",
      "text/plain": [
       "<Figure size 432x288 with 1 Axes>"
      ]
     },
     "metadata": {},
     "output_type": "display_data"
    }
   ],
   "source": [
    "lr_results_df['precision'].head(400000).reset_index(drop=True).plot() # .set_index('pred_prob')\n",
    "plt.title(\"Precision at K\")\n",
    "plt.xlabel(\"K\")\n",
    "plt.ylabel(\"Precision\")\n",
    "plt.ylim(top=0.6,bottom=0.5);"
   ]
  },
  {
   "cell_type": "code",
   "execution_count": 39,
   "metadata": {},
   "outputs": [
    {
     "data": {
      "text/plain": [
       "<AxesSubplot:>"
      ]
     },
     "execution_count": 39,
     "metadata": {},
     "output_type": "execute_result"
    },
    {
     "data": {
      "image/png": "[encoded data removed]",
      "text/plain": [
       "<Figure size 1080x504 with 1 Axes>"
      ]
     },
     "metadata": {},
     "output_type": "display_data"
    }
   ],
   "source": [
    "# feature importances\n",
    "fi = pd.DataFrame(list(zip(all_features, lr_results_dict['estimator']['fold_0'].coef_[0])),columns=['feature','coef'])\n",
    "fi.sort_values('coef').plot(kind='bar',figsize=(15,7))"
   ]
  },
  {
   "cell_type": "code",
   "execution_count": 42,
   "metadata": {},
   "outputs": [
    {
     "name": "stderr",
     "output_type": "stream",
     "text": [
      "<ipython-input-41-8a6f5dd4e7b6>:17: TqdmDeprecationWarning: This function will be removed in tqdm==5.0.0\n",
      "Please use `tqdm.notebook.tqdm` instead of `tqdm.tqdm_notebook`\n",
      "  for fold in tqdm(range(0, df['fold'].nunique()-1, 1)):\n"
     ]
    },
    {
     "data": {
      "application/vnd.jupyter.widget-view+json": {
       "model_id": "1ccac3d353834cf9b42f878b6e8db3d3",
       "version_major": 2,
       "version_minor": 0
      },
      "text/plain": [
       "HBox(children=(HTML(value=''), FloatProgress(value=0.0, max=5.0), HTML(value='')))"
      ]
     },
     "metadata": {},
     "output_type": "display_data"
    },
    {
     "name": "stdout",
     "output_type": "stream",
     "text": [
      "Fitting Fold ['train_fold'] Model (1403069 samples) ...\n",
      "Example Probs:  [0.52237281 0.49953894 0.49978499 0.50195259 0.49169833]\n",
      "Complete.\n",
      "\n",
      "Fold ['train_fold'] Train Scores: \n",
      "AUC: 0.5957477887376696\n",
      "Accuracy: 0.558930458872657\n",
      "\n",
      "\n",
      "Fold fold_0 Test Scores: \n",
      "AUC: 0.5187160014941782\n",
      "Accuracy: 0.51394413370211\n",
      "Utility Score:  668.524834674919\n",
      "Utility Score Ideal:  17325.597178819582\n",
      "\n",
      "\n",
      "Fitting Fold ['train_fold', 'fold_0'] Model (1581316 samples) ...\n",
      "Example Probs:  [0.48658708 0.50983552 0.5039038  0.50681967 0.49847214]\n",
      "Complete.\n",
      "\n",
      "Fold ['train_fold', 'fold_0'] Train Scores: \n",
      "AUC: 0.5898824205101257\n",
      "Accuracy: 0.555283700411556\n",
      "\n",
      "\n",
      "Fold fold_1 Test Scores: \n",
      "AUC: 0.5210537672817278\n",
      "Accuracy: 0.5149140879520151\n",
      "Utility Score:  6.216070539761956\n",
      "Utility Score Ideal:  19621.772493562425\n",
      "\n",
      "\n",
      "Fitting Fold ['train_fold', 'fold_0', 'fold_1'] Model (1778378 samples) ...\n",
      "Example Probs:  [0.50380749 0.49812396 0.49339621 0.51522006 0.49341795]\n",
      "Complete.\n",
      "\n",
      "Fold ['train_fold', 'fold_0', 'fold_1'] Train Scores: \n",
      "AUC: 0.5866876091526224\n",
      "Accuracy: 0.5542741756814356\n",
      "\n",
      "\n",
      "Fold fold_2 Test Scores: \n",
      "AUC: 0.514584617981833\n",
      "Accuracy: 0.5102809273988831\n",
      "Utility Score:  28.13556454589879\n",
      "Utility Score Ideal:  17217.74593618662\n",
      "\n",
      "\n",
      "Fitting Fold ['train_fold', 'fold_0', 'fold_1', 'fold_2'] Model (1967466 samples) ...\n",
      "Example Probs:  [0.54142851 0.5140623  0.50996144 0.500205   0.49736976]\n",
      "Complete.\n",
      "\n",
      "Fold ['train_fold', 'fold_0', 'fold_1', 'fold_2'] Train Scores: \n",
      "AUC: 0.583469193893954\n",
      "Accuracy: 0.5522321605557605\n",
      "\n",
      "\n",
      "Fold fold_3 Test Scores: \n",
      "AUC: 0.5203583356587839\n",
      "Accuracy: 0.5134561851738865\n",
      "Utility Score:  -0.0\n",
      "Utility Score Ideal:  18525.20954591777\n",
      "\n",
      "\n",
      "Fitting Fold ['train_fold', 'fold_0', 'fold_1', 'fold_2', 'fold_3'] Model (2177258 samples) ...\n",
      "Example Probs:  [0.49595767 0.52213891 0.49677162 0.50845654 0.49479653]\n",
      "Complete.\n",
      "\n",
      "Fold ['train_fold', 'fold_0', 'fold_1', 'fold_2', 'fold_3'] Train Scores: \n",
      "AUC: 0.5795735523525072\n",
      "Accuracy: 0.5495251366627198\n",
      "\n",
      "\n",
      "Fold fold_4 Test Scores: \n",
      "AUC: 0.5343144853398837\n",
      "Accuracy: 0.5228646597853053\n",
      "Utility Score:  2206.904921673535\n",
      "Utility Score Ideal:  20209.04072011919\n",
      "\n",
      "\n",
      "\n",
      "CPU times: user 19min 21s, sys: 1min 14s, total: 20min 36s\n",
      "Wall time: 8min 6s\n"
     ]
    }
   ],
   "source": [
    "%%time\n",
    "estimator = LGBMClassifier()\n",
    "rfc_results_dict, rfc_results_df = run_models(estimator=estimator)"
   ]
  },
  {
   "cell_type": "code",
   "execution_count": 49,
   "metadata": {},
   "outputs": [
    {
     "data": {
      "text/plain": [
       "<AxesSubplot:>"
      ]
     },
     "execution_count": 49,
     "metadata": {},
     "output_type": "execute_result"
    },
    {
     "data": {
      "image/png": "[encoded data removed]",
      "text/plain": [
       "<Figure size 1080x504 with 1 Axes>"
      ]
     },
     "metadata": {},
     "output_type": "display_data"
    }
   ],
   "source": [
    "fi = pd.DataFrame(list(zip(all_features, rfc_results_dict['estimator']['fold_2'].feature_importances_)),columns=['feature','importance'])\n",
    "fi.sort_values('importance', ascending=False)[0:40].plot(kind='bar',figsize=(15,7))"
   ]
  },
  {
   "cell_type": "code",
   "execution_count": null,
   "metadata": {},
   "outputs": [],
   "source": []
  }
 ],
 "metadata": {
  "kernelspec": {
   "display_name": "Python 3",
   "language": "python",
   "name": "python3"
  },
  "language_info": {
   "codemirror_mode": {
    "name": "ipython",
    "version": 3
   },
   "file_extension": ".py",
   "mimetype": "text/x-python",
   "name": "python",
   "nbconvert_exporter": "python",
   "pygments_lexer": "ipython3",
   "version": "3.7.8"
  }
 },
 "nbformat": 4,
 "nbformat_minor": 4
}
