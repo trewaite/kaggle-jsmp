{
 "cells": [
  {
   "cell_type": "code",
   "execution_count": 62,
   "metadata": {},
   "outputs": [],
   "source": [
    "import sys\n",
    "import os\n",
    "import csv\n",
    "import numpy as np\n",
    "import pandas as pd\n",
    "import math\n",
    "import matplotlib.pyplot as plt\n",
    "import seaborn as sns\n",
    "from tqdm import tqdm_notebook as tqdm\n",
    "from copy import deepcopy\n",
    "\n",
    "#modeling\n",
    "from sklearn.feature_selection import chi2, f_regression, VarianceThreshold\n",
    "from sklearn.linear_model import LogisticRegression\n",
    "from sklearn.ensemble import RandomForestClassifier\n",
    "\n",
    "#metrics\n",
    "from sklearn.metrics import roc_auc_score, accuracy_score\n",
    "\n",
    "sns.set_style('darkgrid')\n",
    "pd.set_option('display.float_format', lambda x: '%.3f' % x)\n",
    "\n",
    "SEED = 26\n",
    "np.random.seed(SEED)"
   ]
  },
  {
   "cell_type": "markdown",
   "metadata": {},
   "source": [
    "### Read in Feature Engineered Datasets"
   ]
  },
  {
   "cell_type": "code",
   "execution_count": 2,
   "metadata": {},
   "outputs": [
    {
     "name": "stdout",
     "output_type": "stream",
     "text": [
      "CPU times: user 1min 8s, sys: 4.72 s, total: 1min 13s\n",
      "Wall time: 1min 57s\n"
     ]
    }
   ],
   "source": [
    "%%time\n",
    "dtype_dict = {}\n",
    "for f in range(0,130):\n",
    "    dtype_dict[f'feature_{f}'] = 'float32'\n",
    "df = pd.read_csv('../inputs/train.csv')\n",
    "#df = pd.read_csv('../preprocessed/simple_features.csv')"
   ]
  },
  {
   "cell_type": "code",
   "execution_count": 3,
   "metadata": {},
   "outputs": [
    {
     "name": "stdout",
     "output_type": "stream",
     "text": [
      "<class 'pandas.core.frame.DataFrame'>\n",
      "RangeIndex: 2390491 entries, 0 to 2390490\n",
      "Columns: 138 entries, date to ts_id\n",
      "dtypes: float64(135), int64(3)\n",
      "memory usage: 2.5 GB\n"
     ]
    }
   ],
   "source": [
    "df.info()"
   ]
  },
  {
   "cell_type": "code",
   "execution_count": 4,
   "metadata": {},
   "outputs": [],
   "source": [
    "df['feature_0'] = df['feature_0'].replace(-1,0)"
   ]
  },
  {
   "cell_type": "markdown",
   "metadata": {},
   "source": [
    "### Read in Folds"
   ]
  },
  {
   "cell_type": "code",
   "execution_count": 5,
   "metadata": {},
   "outputs": [
    {
     "name": "stdout",
     "output_type": "stream",
     "text": [
      "CPU times: user 587 ms, sys: 20.4 ms, total: 608 ms\n",
      "Wall time: 1.32 s\n"
     ]
    }
   ],
   "source": [
    "%%time\n",
    "train_fold_ind = pd.read_csv('../preprocessed/train_fold_ind.csv')"
   ]
  },
  {
   "cell_type": "code",
   "execution_count": 6,
   "metadata": {},
   "outputs": [
    {
     "data": {
      "image/png": "[encoded data removed]",
      "text/plain": [
       "<Figure size 432x288 with 1 Axes>"
      ]
     },
     "metadata": {},
     "output_type": "display_data"
    }
   ],
   "source": [
    "train_fold_ind['fold'].value_counts().plot(kind='bar');"
   ]
  },
  {
   "cell_type": "code",
   "execution_count": 7,
   "metadata": {},
   "outputs": [],
   "source": [
    "df = pd.concat([df,train_fold_ind[['fold']]],axis=1)"
   ]
  },
  {
   "cell_type": "markdown",
   "metadata": {},
   "source": [
    "### Build Target"
   ]
  },
  {
   "cell_type": "code",
   "execution_count": 8,
   "metadata": {},
   "outputs": [],
   "source": [
    "# simple target, if resp > 0 \n",
    "df['target'] = df['resp'].apply(lambda x: 1 if x > 0 else 0)"
   ]
  },
  {
   "cell_type": "code",
   "execution_count": 9,
   "metadata": {},
   "outputs": [
    {
     "data": {
      "image/png": "[encoded data removed]",
      "text/plain": [
       "<Figure size 432x288 with 1 Axes>"
      ]
     },
     "metadata": {},
     "output_type": "display_data"
    }
   ],
   "source": [
    "df['target'].value_counts().plot(kind='bar')\n",
    "plt.title(\"Class Balance\");"
   ]
  },
  {
   "cell_type": "markdown",
   "metadata": {},
   "source": [
    "### Drop and Index Non-Feature Columns"
   ]
  },
  {
   "cell_type": "code",
   "execution_count": 10,
   "metadata": {},
   "outputs": [],
   "source": [
    "df = df.drop(['resp','resp_1','resp_2','resp_3','resp_4'], axis=1)\n",
    "df = df.set_index(['date','ts_id','weight'])"
   ]
  },
  {
   "cell_type": "markdown",
   "metadata": {},
   "source": [
    "### Impute Missing"
   ]
  },
  {
   "cell_type": "code",
   "execution_count": 11,
   "metadata": {},
   "outputs": [],
   "source": [
    "# fill with 0 as all features scaled...therefore mean is 0\n",
    "df = df.fillna(value=0, axis=1)"
   ]
  },
  {
   "cell_type": "markdown",
   "metadata": {},
   "source": [
    "### Feature Selection"
   ]
  },
  {
   "cell_type": "code",
   "execution_count": 12,
   "metadata": {},
   "outputs": [],
   "source": [
    "all_features = [col for col in df.columns if col not in ['fold','target']]\n",
    "drop_cols = []"
   ]
  },
  {
   "cell_type": "code",
   "execution_count": 13,
   "metadata": {},
   "outputs": [
    {
     "data": {
      "text/html": [
       "<div>\n",
       "<style scoped>\n",
       "    .dataframe tbody tr th:only-of-type {\n",
       "        vertical-align: middle;\n",
       "    }\n",
       "\n",
       "    .dataframe tbody tr th {\n",
       "        vertical-align: top;\n",
       "    }\n",
       "\n",
       "    .dataframe thead th {\n",
       "        text-align: right;\n",
       "    }\n",
       "</style>\n",
       "<table border=\"1\" class=\"dataframe\">\n",
       "  <thead>\n",
       "    <tr style=\"text-align: right;\">\n",
       "      <th></th>\n",
       "      <th></th>\n",
       "      <th></th>\n",
       "      <th>feature_0</th>\n",
       "      <th>feature_1</th>\n",
       "      <th>feature_2</th>\n",
       "      <th>feature_3</th>\n",
       "      <th>feature_4</th>\n",
       "      <th>feature_5</th>\n",
       "      <th>feature_6</th>\n",
       "      <th>feature_7</th>\n",
       "      <th>feature_8</th>\n",
       "      <th>feature_9</th>\n",
       "      <th>...</th>\n",
       "      <th>feature_122</th>\n",
       "      <th>feature_123</th>\n",
       "      <th>feature_124</th>\n",
       "      <th>feature_125</th>\n",
       "      <th>feature_126</th>\n",
       "      <th>feature_127</th>\n",
       "      <th>feature_128</th>\n",
       "      <th>feature_129</th>\n",
       "      <th>fold</th>\n",
       "      <th>target</th>\n",
       "    </tr>\n",
       "    <tr>\n",
       "      <th>date</th>\n",
       "      <th>ts_id</th>\n",
       "      <th>weight</th>\n",
       "      <th></th>\n",
       "      <th></th>\n",
       "      <th></th>\n",
       "      <th></th>\n",
       "      <th></th>\n",
       "      <th></th>\n",
       "      <th></th>\n",
       "      <th></th>\n",
       "      <th></th>\n",
       "      <th></th>\n",
       "      <th></th>\n",
       "      <th></th>\n",
       "      <th></th>\n",
       "      <th></th>\n",
       "      <th></th>\n",
       "      <th></th>\n",
       "      <th></th>\n",
       "      <th></th>\n",
       "      <th></th>\n",
       "      <th></th>\n",
       "      <th></th>\n",
       "    </tr>\n",
       "  </thead>\n",
       "  <tbody>\n",
       "    <tr>\n",
       "      <th rowspan=\"5\" valign=\"top\">0</th>\n",
       "      <th>0</th>\n",
       "      <th>0.000</th>\n",
       "      <td>1</td>\n",
       "      <td>-1.873</td>\n",
       "      <td>-2.191</td>\n",
       "      <td>-0.474</td>\n",
       "      <td>-0.323</td>\n",
       "      <td>0.015</td>\n",
       "      <td>-0.002</td>\n",
       "      <td>0.000</td>\n",
       "      <td>0.000</td>\n",
       "      <td>-0.990</td>\n",
       "      <td>...</td>\n",
       "      <td>1.168</td>\n",
       "      <td>8.314</td>\n",
       "      <td>1.782</td>\n",
       "      <td>14.018</td>\n",
       "      <td>2.653</td>\n",
       "      <td>12.600</td>\n",
       "      <td>2.301</td>\n",
       "      <td>11.446</td>\n",
       "      <td>train_fold</td>\n",
       "      <td>1</td>\n",
       "    </tr>\n",
       "    <tr>\n",
       "      <th>1</th>\n",
       "      <th>16.674</th>\n",
       "      <td>0</td>\n",
       "      <td>-1.350</td>\n",
       "      <td>-1.705</td>\n",
       "      <td>0.068</td>\n",
       "      <td>0.028</td>\n",
       "      <td>0.194</td>\n",
       "      <td>0.138</td>\n",
       "      <td>0.000</td>\n",
       "      <td>0.000</td>\n",
       "      <td>-0.152</td>\n",
       "      <td>...</td>\n",
       "      <td>-1.179</td>\n",
       "      <td>1.777</td>\n",
       "      <td>-0.915</td>\n",
       "      <td>2.832</td>\n",
       "      <td>-1.417</td>\n",
       "      <td>2.297</td>\n",
       "      <td>-1.305</td>\n",
       "      <td>1.899</td>\n",
       "      <td>train_fold</td>\n",
       "      <td>0</td>\n",
       "    </tr>\n",
       "    <tr>\n",
       "      <th>2</th>\n",
       "      <th>0.000</th>\n",
       "      <td>0</td>\n",
       "      <td>0.813</td>\n",
       "      <td>-0.256</td>\n",
       "      <td>0.806</td>\n",
       "      <td>0.400</td>\n",
       "      <td>-0.614</td>\n",
       "      <td>-0.355</td>\n",
       "      <td>0.000</td>\n",
       "      <td>0.000</td>\n",
       "      <td>5.448</td>\n",
       "      <td>...</td>\n",
       "      <td>6.116</td>\n",
       "      <td>9.668</td>\n",
       "      <td>5.543</td>\n",
       "      <td>11.672</td>\n",
       "      <td>7.282</td>\n",
       "      <td>10.060</td>\n",
       "      <td>6.638</td>\n",
       "      <td>9.427</td>\n",
       "      <td>train_fold</td>\n",
       "      <td>1</td>\n",
       "    </tr>\n",
       "    <tr>\n",
       "      <th>3</th>\n",
       "      <th>0.000</th>\n",
       "      <td>0</td>\n",
       "      <td>1.174</td>\n",
       "      <td>0.345</td>\n",
       "      <td>0.067</td>\n",
       "      <td>0.009</td>\n",
       "      <td>-1.006</td>\n",
       "      <td>-0.676</td>\n",
       "      <td>0.000</td>\n",
       "      <td>0.000</td>\n",
       "      <td>4.508</td>\n",
       "      <td>...</td>\n",
       "      <td>2.839</td>\n",
       "      <td>0.499</td>\n",
       "      <td>3.034</td>\n",
       "      <td>1.513</td>\n",
       "      <td>4.398</td>\n",
       "      <td>1.266</td>\n",
       "      <td>3.856</td>\n",
       "      <td>1.013</td>\n",
       "      <td>train_fold</td>\n",
       "      <td>0</td>\n",
       "    </tr>\n",
       "    <tr>\n",
       "      <th>4</th>\n",
       "      <th>0.139</th>\n",
       "      <td>1</td>\n",
       "      <td>-3.172</td>\n",
       "      <td>-3.093</td>\n",
       "      <td>-0.162</td>\n",
       "      <td>-0.128</td>\n",
       "      <td>-0.195</td>\n",
       "      <td>-0.144</td>\n",
       "      <td>0.000</td>\n",
       "      <td>0.000</td>\n",
       "      <td>2.683</td>\n",
       "      <td>...</td>\n",
       "      <td>0.345</td>\n",
       "      <td>4.101</td>\n",
       "      <td>0.614</td>\n",
       "      <td>6.623</td>\n",
       "      <td>0.800</td>\n",
       "      <td>5.233</td>\n",
       "      <td>0.363</td>\n",
       "      <td>3.927</td>\n",
       "      <td>train_fold</td>\n",
       "      <td>0</td>\n",
       "    </tr>\n",
       "  </tbody>\n",
       "</table>\n",
       "<p>5 rows × 132 columns</p>\n",
       "</div>"
      ],
      "text/plain": [
       "                   feature_0  feature_1  feature_2  feature_3  feature_4  \\\n",
       "date ts_id weight                                                          \n",
       "0    0     0.000           1     -1.873     -2.191     -0.474     -0.323   \n",
       "     1     16.674          0     -1.350     -1.705      0.068      0.028   \n",
       "     2     0.000           0      0.813     -0.256      0.806      0.400   \n",
       "     3     0.000           0      1.174      0.345      0.067      0.009   \n",
       "     4     0.139           1     -3.172     -3.093     -0.162     -0.128   \n",
       "\n",
       "                   feature_5  feature_6  feature_7  feature_8  feature_9  ...  \\\n",
       "date ts_id weight                                                         ...   \n",
       "0    0     0.000       0.015     -0.002      0.000      0.000     -0.990  ...   \n",
       "     1     16.674      0.194      0.138      0.000      0.000     -0.152  ...   \n",
       "     2     0.000      -0.614     -0.355      0.000      0.000      5.448  ...   \n",
       "     3     0.000      -1.006     -0.676      0.000      0.000      4.508  ...   \n",
       "     4     0.139      -0.195     -0.144      0.000      0.000      2.683  ...   \n",
       "\n",
       "                   feature_122  feature_123  feature_124  feature_125  \\\n",
       "date ts_id weight                                                       \n",
       "0    0     0.000         1.168        8.314        1.782       14.018   \n",
       "     1     16.674       -1.179        1.777       -0.915        2.832   \n",
       "     2     0.000         6.116        9.668        5.543       11.672   \n",
       "     3     0.000         2.839        0.499        3.034        1.513   \n",
       "     4     0.139         0.345        4.101        0.614        6.623   \n",
       "\n",
       "                   feature_126  feature_127  feature_128  feature_129  \\\n",
       "date ts_id weight                                                       \n",
       "0    0     0.000         2.653       12.600        2.301       11.446   \n",
       "     1     16.674       -1.417        2.297       -1.305        1.899   \n",
       "     2     0.000         7.282       10.060        6.638        9.427   \n",
       "     3     0.000         4.398        1.266        3.856        1.013   \n",
       "     4     0.139         0.800        5.233        0.363        3.927   \n",
       "\n",
       "                         fold  target  \n",
       "date ts_id weight                      \n",
       "0    0     0.000   train_fold       1  \n",
       "     1     16.674  train_fold       0  \n",
       "     2     0.000   train_fold       1  \n",
       "     3     0.000   train_fold       0  \n",
       "     4     0.139   train_fold       0  \n",
       "\n",
       "[5 rows x 132 columns]"
      ]
     },
     "execution_count": 13,
     "metadata": {},
     "output_type": "execute_result"
    }
   ],
   "source": [
    "df.head()"
   ]
  },
  {
   "cell_type": "code",
   "execution_count": 14,
   "metadata": {},
   "outputs": [
    {
     "name": "stdout",
     "output_type": "stream",
     "text": [
      "CPU times: user 2.11 s, sys: 576 ms, total: 2.69 s\n",
      "Wall time: 2.44 s\n"
     ]
    }
   ],
   "source": [
    "%%time\n",
    "f_reg_results = f_regression(X=df[df['fold']=='train_fold'][all_features].values,\n",
    "                             y=df[df['fold']=='train_fold']['target'].values)"
   ]
  },
  {
   "cell_type": "code",
   "execution_count": 15,
   "metadata": {},
   "outputs": [],
   "source": [
    "f_reg_results = pd.DataFrame(list(zip(all_features,f_reg_results[1])),columns=['feature','p_value']).sort_values(by='p_value',ascending=True)"
   ]
  },
  {
   "cell_type": "code",
   "execution_count": 16,
   "metadata": {},
   "outputs": [
    {
     "data": {
      "text/html": [
       "<div>\n",
       "<style scoped>\n",
       "    .dataframe tbody tr th:only-of-type {\n",
       "        vertical-align: middle;\n",
       "    }\n",
       "\n",
       "    .dataframe tbody tr th {\n",
       "        vertical-align: top;\n",
       "    }\n",
       "\n",
       "    .dataframe thead th {\n",
       "        text-align: right;\n",
       "    }\n",
       "</style>\n",
       "<table border=\"1\" class=\"dataframe\">\n",
       "  <thead>\n",
       "    <tr style=\"text-align: right;\">\n",
       "      <th></th>\n",
       "      <th>feature</th>\n",
       "      <th>p_value</th>\n",
       "    </tr>\n",
       "  </thead>\n",
       "  <tbody>\n",
       "    <tr>\n",
       "      <th>111</th>\n",
       "      <td>feature_111</td>\n",
       "      <td>0.101</td>\n",
       "    </tr>\n",
       "    <tr>\n",
       "      <th>96</th>\n",
       "      <td>feature_96</td>\n",
       "      <td>0.107</td>\n",
       "    </tr>\n",
       "    <tr>\n",
       "      <th>127</th>\n",
       "      <td>feature_127</td>\n",
       "      <td>0.148</td>\n",
       "    </tr>\n",
       "    <tr>\n",
       "      <th>121</th>\n",
       "      <td>feature_121</td>\n",
       "      <td>0.177</td>\n",
       "    </tr>\n",
       "    <tr>\n",
       "      <th>108</th>\n",
       "      <td>feature_108</td>\n",
       "      <td>0.211</td>\n",
       "    </tr>\n",
       "    <tr>\n",
       "      <th>4</th>\n",
       "      <td>feature_4</td>\n",
       "      <td>0.306</td>\n",
       "    </tr>\n",
       "    <tr>\n",
       "      <th>98</th>\n",
       "      <td>feature_98</td>\n",
       "      <td>0.377</td>\n",
       "    </tr>\n",
       "    <tr>\n",
       "      <th>5</th>\n",
       "      <td>feature_5</td>\n",
       "      <td>0.471</td>\n",
       "    </tr>\n",
       "    <tr>\n",
       "      <th>93</th>\n",
       "      <td>feature_93</td>\n",
       "      <td>0.485</td>\n",
       "    </tr>\n",
       "    <tr>\n",
       "      <th>78</th>\n",
       "      <td>feature_78</td>\n",
       "      <td>0.579</td>\n",
       "    </tr>\n",
       "    <tr>\n",
       "      <th>83</th>\n",
       "      <td>feature_83</td>\n",
       "      <td>0.632</td>\n",
       "    </tr>\n",
       "    <tr>\n",
       "      <th>84</th>\n",
       "      <td>feature_84</td>\n",
       "      <td>0.682</td>\n",
       "    </tr>\n",
       "    <tr>\n",
       "      <th>110</th>\n",
       "      <td>feature_110</td>\n",
       "      <td>0.800</td>\n",
       "    </tr>\n",
       "    <tr>\n",
       "      <th>115</th>\n",
       "      <td>feature_115</td>\n",
       "      <td>0.801</td>\n",
       "    </tr>\n",
       "    <tr>\n",
       "      <th>86</th>\n",
       "      <td>feature_86</td>\n",
       "      <td>0.852</td>\n",
       "    </tr>\n",
       "    <tr>\n",
       "      <th>125</th>\n",
       "      <td>feature_125</td>\n",
       "      <td>0.862</td>\n",
       "    </tr>\n",
       "    <tr>\n",
       "      <th>3</th>\n",
       "      <td>feature_3</td>\n",
       "      <td>0.899</td>\n",
       "    </tr>\n",
       "    <tr>\n",
       "      <th>74</th>\n",
       "      <td>feature_74</td>\n",
       "      <td>0.968</td>\n",
       "    </tr>\n",
       "  </tbody>\n",
       "</table>\n",
       "</div>"
      ],
      "text/plain": [
       "         feature  p_value\n",
       "111  feature_111    0.101\n",
       "96    feature_96    0.107\n",
       "127  feature_127    0.148\n",
       "121  feature_121    0.177\n",
       "108  feature_108    0.211\n",
       "4      feature_4    0.306\n",
       "98    feature_98    0.377\n",
       "5      feature_5    0.471\n",
       "93    feature_93    0.485\n",
       "78    feature_78    0.579\n",
       "83    feature_83    0.632\n",
       "84    feature_84    0.682\n",
       "110  feature_110    0.800\n",
       "115  feature_115    0.801\n",
       "86    feature_86    0.852\n",
       "125  feature_125    0.862\n",
       "3      feature_3    0.899\n",
       "74    feature_74    0.968"
      ]
     },
     "execution_count": 16,
     "metadata": {},
     "output_type": "execute_result"
    }
   ],
   "source": [
    "f_reg_results[f_reg_results['p_value']>0.05]"
   ]
  },
  {
   "cell_type": "markdown",
   "metadata": {},
   "source": [
    "## Models"
   ]
  },
  {
   "cell_type": "code",
   "execution_count": 63,
   "metadata": {},
   "outputs": [],
   "source": [
    "def run_models(estimator):\n",
    "    \n",
    "    results = {}\n",
    "    df_test_results = pd.DataFrame()\n",
    "    \n",
    "    results['estimator'] = {}\n",
    "    results['train_auc'] = {}\n",
    "    results['train_acc'] = {}\n",
    "    results['test_auc'] = {}\n",
    "    results['test_acc'] = {}\n",
    "        \n",
    "    lr_model = deepcopy(estimator)\n",
    "    \n",
    "    train_fold_list = ['train_fold']\n",
    "\n",
    "    for fold in tqdm(range(0, df['fold'].nunique()-1, 1)):\n",
    "\n",
    "        # split fold\n",
    "        train_fold_list.append(f'fold_{fold}')\n",
    "        df_train = df[df['fold'].isin(train_fold_list[0:-1])]\n",
    "        df_test = df[df['fold'].isin([train_fold_list[-1]])]\n",
    "        df_train = df_train.drop('fold', axis=1)\n",
    "        df_test = df_test.drop('fold', axis=1)\n",
    "\n",
    "        # make X,y\n",
    "        X_train = df_train.drop('target', axis=1)\n",
    "        y_train = df_train['target'].values\n",
    "        X_test = df_test.drop('target', axis=1)\n",
    "        y_test = df_test['target'].values\n",
    "\n",
    "        print(f\"Fitting Fold {train_fold_list[0:-1]} Model ({X_train.shape[0]} samples) ...\")\n",
    "        lr_model.fit(X_train,y_train)\n",
    "\n",
    "        # make predictions\n",
    "        train_pred_prob = lr_model.predict_proba(X_train)[:,1]\n",
    "        train_pred = np.where(train_pred_prob>0.5,1,0)\n",
    "\n",
    "        test_pred_prob = lr_model.predict_proba(X_test)[:,1]\n",
    "        test_pred = np.where(test_pred_prob>0.5,1,0)\n",
    "        \n",
    "        print(\"Example Probs: \", test_pred_prob[0:5])\n",
    "\n",
    "        print(\"Complete.\\n\")\n",
    "\n",
    "        # calculate scores\n",
    "        train_auc = roc_auc_score(y_train, train_pred_prob)\n",
    "        train_acc = accuracy_score(y_train, train_pred)\n",
    "\n",
    "        test_auc = roc_auc_score(y_test, test_pred_prob)\n",
    "        test_acc = accuracy_score(y_test, test_pred)\n",
    "\n",
    "        print(f\"Fold {train_fold_list[0:-1]} Train Scores: \")\n",
    "        print(f\"AUC: {train_auc}\")\n",
    "        print(f\"Accuracy: {train_acc}\")\n",
    "        print(\"\\n\")\n",
    "\n",
    "        print(f\"Fold {train_fold_list[-1]} Test Scores: \")\n",
    "        print(f\"AUC: {test_auc}\")\n",
    "        print(f\"Accuracy: {test_acc}\")\n",
    "        print(\"\\n\")\n",
    "        \n",
    "        # save fold results\n",
    "        results_df = pd.DataFrame(y_test,columns=['actual'])\n",
    "        results_df['pred_prob'] = test_pred_prob\n",
    "        results_df['pred'] = test_pred\n",
    "        results_df['fold'] = train_fold_list[-1]\n",
    "        df_test_results = df_test_results.append(results_df)\n",
    "        \n",
    "        results['estimator'][train_fold_list[-1]] = lr_model\n",
    "        results['train_auc'][train_fold_list[-1]] = train_auc\n",
    "        results['train_acc'][train_fold_list[-1]] = train_acc\n",
    "        results['test_auc'][train_fold_list[-1]] = test_auc\n",
    "        results['test_acc'][train_fold_list[-1]] = test_acc        \n",
    "        \n",
    "    return results, df_test_results"
   ]
  },
  {
   "cell_type": "code",
   "execution_count": 18,
   "metadata": {},
   "outputs": [
    {
     "name": "stderr",
     "output_type": "stream",
     "text": [
      "<ipython-input-17-944741d2d00b>:17: TqdmDeprecationWarning: This function will be removed in tqdm==5.0.0\n",
      "Please use `tqdm.notebook.tqdm` instead of `tqdm.tqdm_notebook`\n",
      "  for fold in tqdm(range(0, df['fold'].nunique()-1, 1)):\n"
     ]
    },
    {
     "data": {
      "application/vnd.jupyter.widget-view+json": {
       "model_id": "523f14ece4ec46259219b6fc4c4f026c",
       "version_major": 2,
       "version_minor": 0
      },
      "text/plain": [
       "HBox(children=(HTML(value=''), FloatProgress(value=0.0, max=5.0), HTML(value='')))"
      ]
     },
     "metadata": {},
     "output_type": "display_data"
    },
    {
     "name": "stdout",
     "output_type": "stream",
     "text": [
      "Fitting Fold ['train_fold'] Model...\n"
     ]
    },
    {
     "name": "stderr",
     "output_type": "stream",
     "text": [
      "/mnt/f/code/kaggle-jsmp/env/lib/python3.8/site-packages/sklearn/linear_model/_sag.py:329: ConvergenceWarning: The max_iter was reached which means the coef_ did not converge\n",
      "  warnings.warn(\"The max_iter was reached which means \"\n"
     ]
    },
    {
     "name": "stdout",
     "output_type": "stream",
     "text": [
      "Example Probs:  [0.49957086 0.48573621 0.49706673 0.51391627 0.50688588]\n",
      "Complete.\n",
      "\n",
      "Fold ['train_fold'] Train Scores: \n",
      "AUC: 0.5364555235676184\n",
      "Accuracy: 0.5249478108346775\n",
      "\n",
      "\n",
      "Fold fold_0 Test Scores: \n",
      "AUC: 0.51972443915682\n",
      "Accuracy: 0.5135514202202561\n",
      "\n",
      "\n",
      "Fitting Fold ['train_fold', 'fold_0'] Model...\n"
     ]
    },
    {
     "name": "stderr",
     "output_type": "stream",
     "text": [
      "/mnt/f/code/kaggle-jsmp/env/lib/python3.8/site-packages/sklearn/linear_model/_sag.py:329: ConvergenceWarning: The max_iter was reached which means the coef_ did not converge\n",
      "  warnings.warn(\"The max_iter was reached which means \"\n"
     ]
    },
    {
     "name": "stdout",
     "output_type": "stream",
     "text": [
      "Example Probs:  [0.48957461 0.47221488 0.5152935  0.49665396 0.49709213]\n",
      "Complete.\n",
      "\n",
      "Fold ['train_fold', 'fold_0'] Train Scores: \n",
      "AUC: 0.5351301484904087\n",
      "Accuracy: 0.5240578100771762\n",
      "\n",
      "\n",
      "Fold fold_1 Test Scores: \n",
      "AUC: 0.5202913719306127\n",
      "Accuracy: 0.5137520171316642\n",
      "\n",
      "\n",
      "Fitting Fold ['train_fold', 'fold_0', 'fold_1'] Model...\n"
     ]
    },
    {
     "name": "stderr",
     "output_type": "stream",
     "text": [
      "/mnt/f/code/kaggle-jsmp/env/lib/python3.8/site-packages/sklearn/linear_model/_sag.py:329: ConvergenceWarning: The max_iter was reached which means the coef_ did not converge\n",
      "  warnings.warn(\"The max_iter was reached which means \"\n"
     ]
    },
    {
     "name": "stdout",
     "output_type": "stream",
     "text": [
      "Example Probs:  [0.48132611 0.50023508 0.49141601 0.4918499  0.49313996]\n",
      "Complete.\n",
      "\n",
      "Fold ['train_fold', 'fold_0', 'fold_1'] Train Scores: \n",
      "AUC: 0.5338150147886673\n",
      "Accuracy: 0.523096889412712\n",
      "\n",
      "\n",
      "Fold fold_2 Test Scores: \n",
      "AUC: 0.5200264570962786\n",
      "Accuracy: 0.5144641648333051\n",
      "\n",
      "\n",
      "Fitting Fold ['train_fold', 'fold_0', 'fold_1', 'fold_2'] Model...\n"
     ]
    },
    {
     "name": "stderr",
     "output_type": "stream",
     "text": [
      "/mnt/f/code/kaggle-jsmp/env/lib/python3.8/site-packages/sklearn/linear_model/_sag.py:329: ConvergenceWarning: The max_iter was reached which means the coef_ did not converge\n",
      "  warnings.warn(\"The max_iter was reached which means \"\n"
     ]
    },
    {
     "name": "stdout",
     "output_type": "stream",
     "text": [
      "Example Probs:  [0.53630619 0.49884249 0.52938226 0.48136851 0.50539315]\n",
      "Complete.\n",
      "\n",
      "Fold ['train_fold', 'fold_0', 'fold_1', 'fold_2'] Train Scores: \n",
      "AUC: 0.5328764834347723\n",
      "Accuracy: 0.5226646864545562\n",
      "\n",
      "\n",
      "Fold fold_3 Test Scores: \n",
      "AUC: 0.5168521188152851\n",
      "Accuracy: 0.5124933267236119\n",
      "\n",
      "\n",
      "Fitting Fold ['train_fold', 'fold_0', 'fold_1', 'fold_2', 'fold_3'] Model...\n"
     ]
    },
    {
     "name": "stderr",
     "output_type": "stream",
     "text": [
      "/mnt/f/code/kaggle-jsmp/env/lib/python3.8/site-packages/sklearn/linear_model/_sag.py:329: ConvergenceWarning: The max_iter was reached which means the coef_ did not converge\n",
      "  warnings.warn(\"The max_iter was reached which means \"\n"
     ]
    },
    {
     "name": "stdout",
     "output_type": "stream",
     "text": [
      "Example Probs:  [0.48065575 0.53180486 0.50002293 0.50929018 0.49059919]\n",
      "Complete.\n",
      "\n",
      "Fold ['train_fold', 'fold_0', 'fold_1', 'fold_2', 'fold_3'] Train Scores: \n",
      "AUC: 0.531505594828435\n",
      "Accuracy: 0.5216322548820581\n",
      "\n",
      "\n",
      "Fold fold_4 Test Scores: \n",
      "AUC: 0.5296930885646636\n",
      "Accuracy: 0.5182640585650439\n",
      "\n",
      "\n",
      "\n",
      "CPU times: user 26min 23s, sys: 1min 6s, total: 27min 29s\n",
      "Wall time: 27min 40s\n"
     ]
    }
   ],
   "source": [
    "%%time\n",
    "estimator = LogisticRegression(solver='sag',penalty='l2')\n",
    "lr_results_dict, lr_results_df = run_models(estimator=estimator)"
   ]
  },
  {
   "cell_type": "code",
   "execution_count": 19,
   "metadata": {},
   "outputs": [
    {
     "data": {
      "text/plain": [
       "{'estimator': {'fold_0': LogisticRegression(solver='sag'),\n",
       "  'fold_1': LogisticRegression(solver='sag'),\n",
       "  'fold_2': LogisticRegression(solver='sag'),\n",
       "  'fold_3': LogisticRegression(solver='sag'),\n",
       "  'fold_4': LogisticRegression(solver='sag')},\n",
       " 'train_auc': {'fold_0': 0.5364555235676184,\n",
       "  'fold_1': 0.5351301484904087,\n",
       "  'fold_2': 0.5338150147886673,\n",
       "  'fold_3': 0.5328764834347723,\n",
       "  'fold_4': 0.531505594828435},\n",
       " 'train_acc': {'fold_0': 0.5249478108346775,\n",
       "  'fold_1': 0.5240578100771762,\n",
       "  'fold_2': 0.523096889412712,\n",
       "  'fold_3': 0.5226646864545562,\n",
       "  'fold_4': 0.5216322548820581},\n",
       " 'test_auc': {'fold_0': 0.51972443915682,\n",
       "  'fold_1': 0.5202913719306127,\n",
       "  'fold_2': 0.5200264570962786,\n",
       "  'fold_3': 0.5168521188152851,\n",
       "  'fold_4': 0.5296930885646636},\n",
       " 'test_acc': {'fold_0': 0.5249478108346775,\n",
       "  'fold_1': 0.5240578100771762,\n",
       "  'fold_2': 0.523096889412712,\n",
       "  'fold_3': 0.5226646864545562,\n",
       "  'fold_4': 0.5216322548820581}}"
      ]
     },
     "execution_count": 19,
     "metadata": {},
     "output_type": "execute_result"
    }
   ],
   "source": [
    "lr_results_dict"
   ]
  },
  {
   "cell_type": "code",
   "execution_count": 46,
   "metadata": {},
   "outputs": [
    {
     "data": {
      "text/html": [
       "<div>\n",
       "<style scoped>\n",
       "    .dataframe tbody tr th:only-of-type {\n",
       "        vertical-align: middle;\n",
       "    }\n",
       "\n",
       "    .dataframe tbody tr th {\n",
       "        vertical-align: top;\n",
       "    }\n",
       "\n",
       "    .dataframe thead th {\n",
       "        text-align: right;\n",
       "    }\n",
       "</style>\n",
       "<table border=\"1\" class=\"dataframe\">\n",
       "  <thead>\n",
       "    <tr style=\"text-align: right;\">\n",
       "      <th></th>\n",
       "      <th>actual</th>\n",
       "      <th>pred_prob</th>\n",
       "      <th>pred</th>\n",
       "      <th>fold</th>\n",
       "      <th>actual_rolling_sum</th>\n",
       "      <th>pred_rolling_sum</th>\n",
       "      <th>correct</th>\n",
       "      <th>precision</th>\n",
       "    </tr>\n",
       "  </thead>\n",
       "  <tbody>\n",
       "    <tr>\n",
       "      <th>95542</th>\n",
       "      <td>1</td>\n",
       "      <td>0.966</td>\n",
       "      <td>1</td>\n",
       "      <td>fold_3</td>\n",
       "      <td>1</td>\n",
       "      <td>1</td>\n",
       "      <td>1</td>\n",
       "      <td>1.000</td>\n",
       "    </tr>\n",
       "    <tr>\n",
       "      <th>95536</th>\n",
       "      <td>0</td>\n",
       "      <td>0.900</td>\n",
       "      <td>1</td>\n",
       "      <td>fold_3</td>\n",
       "      <td>1</td>\n",
       "      <td>2</td>\n",
       "      <td>0</td>\n",
       "      <td>0.500</td>\n",
       "    </tr>\n",
       "    <tr>\n",
       "      <th>72714</th>\n",
       "      <td>0</td>\n",
       "      <td>0.895</td>\n",
       "      <td>1</td>\n",
       "      <td>fold_2</td>\n",
       "      <td>1</td>\n",
       "      <td>3</td>\n",
       "      <td>0</td>\n",
       "      <td>0.333</td>\n",
       "    </tr>\n",
       "    <tr>\n",
       "      <th>35934</th>\n",
       "      <td>0</td>\n",
       "      <td>0.884</td>\n",
       "      <td>1</td>\n",
       "      <td>fold_1</td>\n",
       "      <td>1</td>\n",
       "      <td>4</td>\n",
       "      <td>0</td>\n",
       "      <td>0.250</td>\n",
       "    </tr>\n",
       "    <tr>\n",
       "      <th>67750</th>\n",
       "      <td>0</td>\n",
       "      <td>0.871</td>\n",
       "      <td>1</td>\n",
       "      <td>fold_2</td>\n",
       "      <td>1</td>\n",
       "      <td>5</td>\n",
       "      <td>0</td>\n",
       "      <td>0.200</td>\n",
       "    </tr>\n",
       "  </tbody>\n",
       "</table>\n",
       "</div>"
      ],
      "text/plain": [
       "       actual  pred_prob  pred    fold  actual_rolling_sum  pred_rolling_sum  \\\n",
       "95542       1      0.966     1  fold_3                   1                 1   \n",
       "95536       0      0.900     1  fold_3                   1                 2   \n",
       "72714       0      0.895     1  fold_2                   1                 3   \n",
       "35934       0      0.884     1  fold_1                   1                 4   \n",
       "67750       0      0.871     1  fold_2                   1                 5   \n",
       "\n",
       "       correct  precision  \n",
       "95542        1      1.000  \n",
       "95536        0      0.500  \n",
       "72714        0      0.333  \n",
       "35934        0      0.250  \n",
       "67750        0      0.200  "
      ]
     },
     "execution_count": 46,
     "metadata": {},
     "output_type": "execute_result"
    }
   ],
   "source": [
    "lr_results_df.head()"
   ]
  },
  {
   "cell_type": "code",
   "execution_count": 39,
   "metadata": {},
   "outputs": [],
   "source": [
    "lr_results_df = lr_results_df.sort_values('pred_prob',ascending=False)\n",
    "lr_results_df['correct'] = lr_results_df.apply(lambda x: 1 if x['actual']==x['pred'] else 0, axis=1)\n",
    "lr_results_df['precision'] = lr_results_df['correct'].expanding().mean()"
   ]
  },
  {
   "cell_type": "code",
   "execution_count": 22,
   "metadata": {},
   "outputs": [
    {
     "data": {
      "text/plain": [
       "<AxesSubplot:>"
      ]
     },
     "execution_count": 22,
     "metadata": {},
     "output_type": "execute_result"
    },
    {
     "data": {
      "image/png": "[encoded data removed]",
      "text/plain": [
       "<Figure size 432x288 with 1 Axes>"
      ]
     },
     "metadata": {},
     "output_type": "display_data"
    }
   ],
   "source": [
    "lr_results_df['pred_prob'].hist(bins=100)"
   ]
  },
  {
   "cell_type": "code",
   "execution_count": 61,
   "metadata": {},
   "outputs": [
    {
     "data": {
      "image/png": "[encoded data removed]",
      "text/plain": [
       "<Figure size 432x288 with 1 Axes>"
      ]
     },
     "metadata": {},
     "output_type": "display_data"
    }
   ],
   "source": [
    "lr_results_df['precision'].head(400000).reset_index(drop=True).plot()\n",
    "plt.title(\"Precision at K\")\n",
    "plt.xlabel(\"K\")\n",
    "plt.ylabel(\"Precision\")\n",
    "plt.ylim(top=0.6,bottom=0.5);"
   ]
  },
  {
   "cell_type": "code",
   "execution_count": null,
   "metadata": {},
   "outputs": [],
   "source": [
    "# feature importances"
   ]
  },
  {
   "cell_type": "code",
   "execution_count": null,
   "metadata": {},
   "outputs": [
    {
     "name": "stderr",
     "output_type": "stream",
     "text": [
      "<ipython-input-63-55735062de39>:16: TqdmDeprecationWarning: This function will be removed in tqdm==5.0.0\n",
      "Please use `tqdm.notebook.tqdm` instead of `tqdm.tqdm_notebook`\n",
      "  for fold in tqdm(range(0, df['fold'].nunique()-1, 1)):\n"
     ]
    },
    {
     "data": {
      "application/vnd.jupyter.widget-view+json": {
       "model_id": "f8026c06e898410faef2893478765930",
       "version_major": 2,
       "version_minor": 0
      },
      "text/plain": [
       "HBox(children=(HTML(value=''), FloatProgress(value=0.0, max=5.0), HTML(value='')))"
      ]
     },
     "metadata": {},
     "output_type": "display_data"
    },
    {
     "name": "stdout",
     "output_type": "stream",
     "text": [
      "Fitting Fold ['train_fold'] Model (1403069 samples) ...\n"
     ]
    }
   ],
   "source": [
    "%%time\n",
    "estimator = RandomForestClassifier()\n",
    "rfc_results_dict, rfc_results_df = run_models(estimator=estimator)"
   ]
  },
  {
   "cell_type": "code",
   "execution_count": null,
   "metadata": {},
   "outputs": [],
   "source": []
  }
 ],
 "metadata": {
  "kernelspec": {
   "display_name": "Python 3",
   "language": "python",
   "name": "python3"
  },
  "language_info": {
   "codemirror_mode": {
    "name": "ipython",
    "version": 3
   },
   "file_extension": ".py",
   "mimetype": "text/x-python",
   "name": "python",
   "nbconvert_exporter": "python",
   "pygments_lexer": "ipython3",
   "version": "3.8.2"
  }
 },
 "nbformat": 4,
 "nbformat_minor": 4
}
