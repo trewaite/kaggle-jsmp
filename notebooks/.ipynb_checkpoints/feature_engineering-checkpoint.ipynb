{
 "cells": [
  {
   "cell_type": "code",
   "execution_count": 1,
   "metadata": {},
   "outputs": [],
   "source": [
    "import sys\n",
    "import os\n",
    "import csv\n",
    "import numpy as np\n",
    "import pandas as pd\n",
    "import math\n",
    "import matplotlib.pyplot as plt\n",
    "import seaborn as sns\n",
    "from tqdm.notebook import tqdm\n",
    "from copy import deepcopy\n",
    "from datetime import datetime as dt\n",
    "\n",
    "from sklearn.decomposition import PCA, FastICA\n",
    "\n",
    "#metrics\n",
    "from sklearn.metrics import roc_auc_score, accuracy_score\n",
    "\n",
    "import time\n",
    "\n",
    "def timeit(func):\n",
    "    def timed(*args, **kwargs):\n",
    "        ts = time.time()\n",
    "        print('Function', func.__name__, 'running...')\n",
    "\n",
    "        result = func(*args, **kwargs)\n",
    "        te = time.time()\n",
    "        shape = result[0].shape\n",
    "        print('Completed. Dataframe shape: ', shape, 'Time elapsed:', round((te -ts),1), 's')\n",
    "        print()\n",
    "        return result\n",
    "    return timed\n",
    "\n",
    "sns.set_style('darkgrid')\n",
    "pd.set_option('display.float_format', lambda x: '%.3f' % x)\n",
    "\n",
    "SEED = 26\n",
    "np.random.seed(SEED)"
   ]
  },
  {
   "cell_type": "markdown",
   "metadata": {},
   "source": [
    "### Read In Data"
   ]
  },
  {
   "cell_type": "code",
   "execution_count": 2,
   "metadata": {},
   "outputs": [
    {
     "name": "stdout",
     "output_type": "stream",
     "text": [
      "CPU times: user 54.6 s, sys: 3.17 s, total: 57.8 s\n",
      "Wall time: 57.8 s\n"
     ]
    }
   ],
   "source": [
    "%%time\n",
    "# dtype_dict = {}\n",
    "# for f in range(0,130):\n",
    "#     dtype_dict[f'feature_{f}'] = 'float32'\n",
    "train = pd.read_csv('../inputs/train.csv')"
   ]
  },
  {
   "cell_type": "code",
   "execution_count": 3,
   "metadata": {},
   "outputs": [
    {
     "name": "stdout",
     "output_type": "stream",
     "text": [
      "<class 'pandas.core.frame.DataFrame'>\n",
      "RangeIndex: 2390491 entries, 0 to 2390490\n",
      "Columns: 138 entries, date to ts_id\n",
      "dtypes: float64(135), int64(3)\n",
      "memory usage: 2.5 GB\n"
     ]
    }
   ],
   "source": [
    "train.info()"
   ]
  },
  {
   "cell_type": "code",
   "execution_count": 4,
   "metadata": {},
   "outputs": [
    {
     "name": "stdout",
     "output_type": "stream",
     "text": [
      "CPU times: user 248 ms, sys: 8 ms, total: 256 ms\n",
      "Wall time: 257 ms\n"
     ]
    }
   ],
   "source": [
    "%%time\n",
    "train_fold_ind = pd.read_csv('../preprocessed/train_fold_ind.csv')"
   ]
  },
  {
   "cell_type": "code",
   "execution_count": 5,
   "metadata": {},
   "outputs": [],
   "source": [
    "df = pd.concat([train,train_fold_ind[['fold']]],axis=1)\n",
    "del train"
   ]
  },
  {
   "cell_type": "markdown",
   "metadata": {},
   "source": [
    "### Create Feature Functions"
   ]
  },
  {
   "cell_type": "code",
   "execution_count": 6,
   "metadata": {},
   "outputs": [],
   "source": [
    "@timeit\n",
    "def create_daily_return_lags(df, lags, na_method):\n",
    "    \n",
    "    df_daily = df[['date','fold','resp']].groupby(['date','fold']).mean().reset_index()\n",
    "    \n",
    "    features = []\n",
    "    for lag in tqdm(lags):\n",
    "        col_name = '_'.join(['resp_daily_lag',str(lag)])\n",
    "        features.append(col_name)\n",
    "        df_daily[col_name] = df_daily.groupby(['fold'])['resp'].transform(lambda x: x.shift(lag))\n",
    "        \n",
    "    df_daily = df_daily.drop(['resp','fold'], axis=1)\n",
    "    df = pd.merge(df, df_daily, on=['date'], how='left')\n",
    "    \n",
    "    if na_method == -1:\n",
    "        df[features] = df[features].fillna(-1)\n",
    "    elif na_method == 'drop':\n",
    "        df[features] = df[features].dropna()\n",
    "    \n",
    "    return df, features"
   ]
  },
  {
   "cell_type": "code",
   "execution_count": 7,
   "metadata": {},
   "outputs": [],
   "source": [
    "@timeit\n",
    "def create_last_trade_return_lags(df, lags, na_method):\n",
    "    \n",
    "    features = []\n",
    "    for lag in tqdm(lags):\n",
    "        col_name = '_'.join(['resp_lag',str(lag)])\n",
    "        features.append(col_name)\n",
    "        df[col_name] = df.groupby(['fold'])['resp'].transform(lambda x: x.shift(lag))\n",
    "    \n",
    "    if na_method == -1:\n",
    "        df[features] = df[features].fillna(-1)\n",
    "    elif na_method == 'drop':\n",
    "        df[features] = df[features].dropna()\n",
    "    \n",
    "    return df, features"
   ]
  },
  {
   "cell_type": "code",
   "execution_count": 8,
   "metadata": {},
   "outputs": [],
   "source": [
    "@timeit\n",
    "def running_daily_total_trades(df):\n",
    "            \n",
    "    df['running_total_trades'] = (df[['date','fold','ts_id']]\n",
    "                                  .sort_values('ts_id')\n",
    "                                  .groupby(['date','fold'])\n",
    "                                  .transform(lambda x: x.expanding().count())\n",
    "                                  .astype('int64')\n",
    "                                  .values)\n",
    "    \n",
    "    return df, ['running_total_trades']"
   ]
  },
  {
   "cell_type": "code",
   "execution_count": 9,
   "metadata": {},
   "outputs": [],
   "source": [
    "@timeit\n",
    "def create_day_features(df):\n",
    "    '''\n",
    "    create day of week features assuming starting monday and 5 day trading week\n",
    "    '''\n",
    "    df['dow'] = df['ts_id']%5\n",
    "    return df, ['dow']"
   ]
  },
  {
   "cell_type": "code",
   "execution_count": 10,
   "metadata": {},
   "outputs": [],
   "source": [
    "@timeit\n",
    "def create_target(df, threshold=0):\n",
    "    df['target'] = df['resp'].apply(lambda x: 1 if x > threshold else 0)\n",
    "    return df, 'target'"
   ]
  },
  {
   "cell_type": "code",
   "execution_count": 11,
   "metadata": {},
   "outputs": [],
   "source": [
    "@timeit\n",
    "def create_pca_features(df, columns, n_components, col_prefix):\n",
    "    \n",
    "    df_train = df[df['fold']=='train_fold'][columns]\n",
    "    df_train = df_train.fillna(0)\n",
    "    \n",
    "    pca = PCA(n_components=n_components)\n",
    "    pca.fit(df_train.values)\n",
    "    \n",
    "    features = [\"_\".join([col_prefix,str(i)]) for i in range(1,n_components+1)]\n",
    "    \n",
    "    pca_df = pd.DataFrame(pca.transform(df[columns].fillna(0).values), \n",
    "                          columns=features)\n",
    "    \n",
    "    df = pd.concat([df, pca_df],axis=1)\n",
    "    \n",
    "    return df, features"
   ]
  },
  {
   "cell_type": "markdown",
   "metadata": {},
   "source": [
    "### Run Pipeline"
   ]
  },
  {
   "cell_type": "code",
   "execution_count": 12,
   "metadata": {},
   "outputs": [
    {
     "name": "stdout",
     "output_type": "stream",
     "text": [
      "Function create_daily_return_lags running...\n"
     ]
    },
    {
     "data": {
      "application/vnd.jupyter.widget-view+json": {
       "model_id": "9426d841822948ba8834eccdc9880683",
       "version_major": 2,
       "version_minor": 0
      },
      "text/plain": [
       "HBox(children=(FloatProgress(value=0.0, max=29.0), HTML(value='')))"
      ]
     },
     "metadata": {},
     "output_type": "display_data"
    },
    {
     "name": "stdout",
     "output_type": "stream",
     "text": [
      "\n",
      "Completed. Dataframe shape:  (2390491, 168) Time elapsed: 7.8 s\n",
      "\n",
      "Function create_last_trade_return_lags running...\n"
     ]
    },
    {
     "data": {
      "application/vnd.jupyter.widget-view+json": {
       "model_id": "9ce9d6dc31804c5baf17094b6fa0b5de",
       "version_major": 2,
       "version_minor": 0
      },
      "text/plain": [
       "HBox(children=(FloatProgress(value=0.0, max=29.0), HTML(value='')))"
      ]
     },
     "metadata": {},
     "output_type": "display_data"
    },
    {
     "name": "stdout",
     "output_type": "stream",
     "text": [
      "\n",
      "Completed. Dataframe shape:  (2390491, 197) Time elapsed: 14.0 s\n",
      "\n",
      "Function create_pca_features running...\n",
      "Completed. Dataframe shape:  (2390491, 212) Time elapsed: 22.0 s\n",
      "\n",
      "Function create_pca_features running...\n",
      "Completed. Dataframe shape:  (2390491, 227) Time elapsed: 17.2 s\n",
      "\n",
      "Function create_day_features running...\n",
      "Completed. Dataframe shape:  (2390491, 228) Time elapsed: 0.0 s\n",
      "\n",
      "Function running_daily_total_trades running...\n",
      "Completed. Dataframe shape:  (2390491, 229) Time elapsed: 4.6 s\n",
      "\n",
      "Function create_target running...\n",
      "Completed. Dataframe shape:  (2390491, 230) Time elapsed: 0.7 s\n",
      "\n",
      "CPU times: user 1min 29s, sys: 21.9 s, total: 1min 51s\n",
      "Wall time: 1min 6s\n"
     ]
    }
   ],
   "source": [
    "%%time\n",
    "\n",
    "original_features = [f\"feature_{f}\" for f in range(0,130)]\n",
    "\n",
    "df, daily_lag_features = create_daily_return_lags(df, \n",
    "                                                  lags=np.arange(1,30,1),\n",
    "                                                  na_method=-1)\n",
    "\n",
    "df, lag_features = create_last_trade_return_lags(df, \n",
    "                                                 lags=np.arange(1,30,1),\n",
    "                                                 na_method=-1)\n",
    "\n",
    "df, orig_pca_features = create_pca_features(df,\n",
    "                                            columns=original_features,\n",
    "                                            n_components=15,\n",
    "                                            col_prefix='orginal_pca')\n",
    "\n",
    "df, lag_pca_features = create_pca_features(df,\n",
    "                                           columns=lag_features+daily_lag_features,\n",
    "                                           n_components=15,\n",
    "                                           col_prefix='lag_pca')\n",
    "\n",
    "df, dow_features = create_day_features(df)\n",
    "df, running_total_trades_features = running_daily_total_trades(df)\n",
    "df, target_col = create_target(df, threshold=0)"
   ]
  },
  {
   "cell_type": "code",
   "execution_count": 13,
   "metadata": {},
   "outputs": [],
   "source": [
    "# fill main features missing values\n",
    "df[original_features] = df[original_features].fillna(0) # okay as scaled to 0 mean"
   ]
  },
  {
   "cell_type": "code",
   "execution_count": 14,
   "metadata": {},
   "outputs": [
    {
     "name": "stdout",
     "output_type": "stream",
     "text": [
      "CPU times: user 5.21 s, sys: 3.46 s, total: 8.67 s\n",
      "Wall time: 8.66 s\n"
     ]
    }
   ],
   "source": [
    "%%time\n",
    "df = df.drop(['resp_1','resp_2','resp_3','resp_4'], axis=1)\n",
    "df = df.set_index(['date','ts_id','weight','resp'])"
   ]
  },
  {
   "cell_type": "code",
   "execution_count": 15,
   "metadata": {},
   "outputs": [
    {
     "data": {
      "text/html": [
       "<div>\n",
       "<style scoped>\n",
       "    .dataframe tbody tr th:only-of-type {\n",
       "        vertical-align: middle;\n",
       "    }\n",
       "\n",
       "    .dataframe tbody tr th {\n",
       "        vertical-align: top;\n",
       "    }\n",
       "\n",
       "    .dataframe thead th {\n",
       "        text-align: right;\n",
       "    }\n",
       "</style>\n",
       "<table border=\"1\" class=\"dataframe\">\n",
       "  <thead>\n",
       "    <tr style=\"text-align: right;\">\n",
       "      <th></th>\n",
       "      <th></th>\n",
       "      <th></th>\n",
       "      <th></th>\n",
       "      <th>feature_0</th>\n",
       "      <th>feature_1</th>\n",
       "      <th>feature_2</th>\n",
       "      <th>feature_3</th>\n",
       "      <th>feature_4</th>\n",
       "      <th>feature_5</th>\n",
       "      <th>feature_6</th>\n",
       "      <th>feature_7</th>\n",
       "      <th>feature_8</th>\n",
       "      <th>feature_9</th>\n",
       "      <th>...</th>\n",
       "      <th>lag_pca_9</th>\n",
       "      <th>lag_pca_10</th>\n",
       "      <th>lag_pca_11</th>\n",
       "      <th>lag_pca_12</th>\n",
       "      <th>lag_pca_13</th>\n",
       "      <th>lag_pca_14</th>\n",
       "      <th>lag_pca_15</th>\n",
       "      <th>dow</th>\n",
       "      <th>running_total_trades</th>\n",
       "      <th>target</th>\n",
       "    </tr>\n",
       "    <tr>\n",
       "      <th>date</th>\n",
       "      <th>ts_id</th>\n",
       "      <th>weight</th>\n",
       "      <th>resp</th>\n",
       "      <th></th>\n",
       "      <th></th>\n",
       "      <th></th>\n",
       "      <th></th>\n",
       "      <th></th>\n",
       "      <th></th>\n",
       "      <th></th>\n",
       "      <th></th>\n",
       "      <th></th>\n",
       "      <th></th>\n",
       "      <th></th>\n",
       "      <th></th>\n",
       "      <th></th>\n",
       "      <th></th>\n",
       "      <th></th>\n",
       "      <th></th>\n",
       "      <th></th>\n",
       "      <th></th>\n",
       "      <th></th>\n",
       "      <th></th>\n",
       "      <th></th>\n",
       "    </tr>\n",
       "  </thead>\n",
       "  <tbody>\n",
       "    <tr>\n",
       "      <th rowspan=\"5\" valign=\"top\">0</th>\n",
       "      <th>0</th>\n",
       "      <th>0.000</th>\n",
       "      <th>0.006</th>\n",
       "      <td>1</td>\n",
       "      <td>-1.873</td>\n",
       "      <td>-2.191</td>\n",
       "      <td>-0.474</td>\n",
       "      <td>-0.323</td>\n",
       "      <td>0.015</td>\n",
       "      <td>-0.002</td>\n",
       "      <td>0.000</td>\n",
       "      <td>0.000</td>\n",
       "      <td>-0.990</td>\n",
       "      <td>...</td>\n",
       "      <td>0.074</td>\n",
       "      <td>-0.108</td>\n",
       "      <td>-0.119</td>\n",
       "      <td>-0.256</td>\n",
       "      <td>-0.052</td>\n",
       "      <td>0.810</td>\n",
       "      <td>-0.038</td>\n",
       "      <td>0</td>\n",
       "      <td>1</td>\n",
       "      <td>1</td>\n",
       "    </tr>\n",
       "    <tr>\n",
       "      <th>1</th>\n",
       "      <th>16.674</th>\n",
       "      <th>-0.010</th>\n",
       "      <td>-1</td>\n",
       "      <td>-1.350</td>\n",
       "      <td>-1.705</td>\n",
       "      <td>0.068</td>\n",
       "      <td>0.028</td>\n",
       "      <td>0.194</td>\n",
       "      <td>0.138</td>\n",
       "      <td>0.000</td>\n",
       "      <td>0.000</td>\n",
       "      <td>-0.152</td>\n",
       "      <td>...</td>\n",
       "      <td>0.073</td>\n",
       "      <td>-0.113</td>\n",
       "      <td>-0.118</td>\n",
       "      <td>-0.243</td>\n",
       "      <td>-0.048</td>\n",
       "      <td>0.793</td>\n",
       "      <td>-0.023</td>\n",
       "      <td>1</td>\n",
       "      <td>2</td>\n",
       "      <td>0</td>\n",
       "    </tr>\n",
       "    <tr>\n",
       "      <th>2</th>\n",
       "      <th>0.000</th>\n",
       "      <th>0.024</th>\n",
       "      <td>-1</td>\n",
       "      <td>0.813</td>\n",
       "      <td>-0.256</td>\n",
       "      <td>0.806</td>\n",
       "      <td>0.400</td>\n",
       "      <td>-0.614</td>\n",
       "      <td>-0.355</td>\n",
       "      <td>0.000</td>\n",
       "      <td>0.000</td>\n",
       "      <td>5.448</td>\n",
       "      <td>...</td>\n",
       "      <td>0.073</td>\n",
       "      <td>-0.119</td>\n",
       "      <td>-0.117</td>\n",
       "      <td>-0.232</td>\n",
       "      <td>-0.045</td>\n",
       "      <td>0.777</td>\n",
       "      <td>-0.006</td>\n",
       "      <td>2</td>\n",
       "      <td>3</td>\n",
       "      <td>1</td>\n",
       "    </tr>\n",
       "    <tr>\n",
       "      <th>3</th>\n",
       "      <th>0.000</th>\n",
       "      <th>-0.003</th>\n",
       "      <td>-1</td>\n",
       "      <td>1.174</td>\n",
       "      <td>0.345</td>\n",
       "      <td>0.067</td>\n",
       "      <td>0.009</td>\n",
       "      <td>-1.006</td>\n",
       "      <td>-0.676</td>\n",
       "      <td>0.000</td>\n",
       "      <td>0.000</td>\n",
       "      <td>4.508</td>\n",
       "      <td>...</td>\n",
       "      <td>0.072</td>\n",
       "      <td>-0.125</td>\n",
       "      <td>-0.117</td>\n",
       "      <td>-0.220</td>\n",
       "      <td>-0.039</td>\n",
       "      <td>0.761</td>\n",
       "      <td>0.012</td>\n",
       "      <td>3</td>\n",
       "      <td>4</td>\n",
       "      <td>0</td>\n",
       "    </tr>\n",
       "    <tr>\n",
       "      <th>4</th>\n",
       "      <th>0.139</th>\n",
       "      <th>-0.003</th>\n",
       "      <td>1</td>\n",
       "      <td>-3.172</td>\n",
       "      <td>-3.093</td>\n",
       "      <td>-0.162</td>\n",
       "      <td>-0.128</td>\n",
       "      <td>-0.195</td>\n",
       "      <td>-0.144</td>\n",
       "      <td>0.000</td>\n",
       "      <td>0.000</td>\n",
       "      <td>2.683</td>\n",
       "      <td>...</td>\n",
       "      <td>0.071</td>\n",
       "      <td>-0.131</td>\n",
       "      <td>-0.116</td>\n",
       "      <td>-0.210</td>\n",
       "      <td>-0.033</td>\n",
       "      <td>0.748</td>\n",
       "      <td>0.025</td>\n",
       "      <td>4</td>\n",
       "      <td>5</td>\n",
       "      <td>0</td>\n",
       "    </tr>\n",
       "  </tbody>\n",
       "</table>\n",
       "<p>5 rows × 222 columns</p>\n",
       "</div>"
      ],
      "text/plain": [
       "                          feature_0  feature_1  feature_2  feature_3  \\\n",
       "date ts_id weight resp                                                 \n",
       "0    0     0.000  0.006           1     -1.873     -2.191     -0.474   \n",
       "     1     16.674 -0.010         -1     -1.350     -1.705      0.068   \n",
       "     2     0.000  0.024          -1      0.813     -0.256      0.806   \n",
       "     3     0.000  -0.003         -1      1.174      0.345      0.067   \n",
       "     4     0.139  -0.003          1     -3.172     -3.093     -0.162   \n",
       "\n",
       "                          feature_4  feature_5  feature_6  feature_7  \\\n",
       "date ts_id weight resp                                                 \n",
       "0    0     0.000  0.006      -0.323      0.015     -0.002      0.000   \n",
       "     1     16.674 -0.010      0.028      0.194      0.138      0.000   \n",
       "     2     0.000  0.024       0.400     -0.614     -0.355      0.000   \n",
       "     3     0.000  -0.003      0.009     -1.006     -0.676      0.000   \n",
       "     4     0.139  -0.003     -0.128     -0.195     -0.144      0.000   \n",
       "\n",
       "                          feature_8  feature_9  ...  lag_pca_9  lag_pca_10  \\\n",
       "date ts_id weight resp                          ...                          \n",
       "0    0     0.000  0.006       0.000     -0.990  ...      0.074      -0.108   \n",
       "     1     16.674 -0.010      0.000     -0.152  ...      0.073      -0.113   \n",
       "     2     0.000  0.024       0.000      5.448  ...      0.073      -0.119   \n",
       "     3     0.000  -0.003      0.000      4.508  ...      0.072      -0.125   \n",
       "     4     0.139  -0.003      0.000      2.683  ...      0.071      -0.131   \n",
       "\n",
       "                          lag_pca_11  lag_pca_12  lag_pca_13  lag_pca_14  \\\n",
       "date ts_id weight resp                                                     \n",
       "0    0     0.000  0.006       -0.119      -0.256      -0.052       0.810   \n",
       "     1     16.674 -0.010      -0.118      -0.243      -0.048       0.793   \n",
       "     2     0.000  0.024       -0.117      -0.232      -0.045       0.777   \n",
       "     3     0.000  -0.003      -0.117      -0.220      -0.039       0.761   \n",
       "     4     0.139  -0.003      -0.116      -0.210      -0.033       0.748   \n",
       "\n",
       "                          lag_pca_15  dow  running_total_trades  target  \n",
       "date ts_id weight resp                                                   \n",
       "0    0     0.000  0.006       -0.038    0                     1       1  \n",
       "     1     16.674 -0.010      -0.023    1                     2       0  \n",
       "     2     0.000  0.024       -0.006    2                     3       1  \n",
       "     3     0.000  -0.003       0.012    3                     4       0  \n",
       "     4     0.139  -0.003       0.025    4                     5       0  \n",
       "\n",
       "[5 rows x 222 columns]"
      ]
     },
     "execution_count": 15,
     "metadata": {},
     "output_type": "execute_result"
    }
   ],
   "source": [
    "df.head()"
   ]
  },
  {
   "cell_type": "code",
   "execution_count": 16,
   "metadata": {},
   "outputs": [
    {
     "name": "stdout",
     "output_type": "stream",
     "text": [
      "<class 'pandas.core.frame.DataFrame'>\n",
      "MultiIndex: 2390491 entries, (0, 0, 0.0, 0.006270362237518486) to (499, 2390490, 0.0, -0.0019046214579785984)\n",
      "Columns: 222 entries, feature_0 to target\n",
      "dtypes: float64(217), int64(4), object(1)\n",
      "memory usage: 4.3+ GB\n"
     ]
    }
   ],
   "source": [
    "df.info()"
   ]
  },
  {
   "cell_type": "code",
   "execution_count": 17,
   "metadata": {},
   "outputs": [],
   "source": [
    "date = str(dt.today().date()).replace(\"-\",\"_\")\n",
    "df.to_parquet(f\"../preprocessed/all_features_{date}.csv\",\n",
    "              engine='fastparquet',\n",
    "              compression='gzip')"
   ]
  },
  {
   "cell_type": "code",
   "execution_count": null,
   "metadata": {},
   "outputs": [],
   "source": []
  }
 ],
 "metadata": {
  "kernelspec": {
   "display_name": "Python 3",
   "language": "python",
   "name": "python3"
  },
  "language_info": {
   "codemirror_mode": {
    "name": "ipython",
    "version": 3
   },
   "file_extension": ".py",
   "mimetype": "text/x-python",
   "name": "python",
   "nbconvert_exporter": "python",
   "pygments_lexer": "ipython3",
   "version": "3.7.8"
  }
 },
 "nbformat": 4,
 "nbformat_minor": 4
}
